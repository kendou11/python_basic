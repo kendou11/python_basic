{
 "cells": [
  {
   "cell_type": "code",
   "execution_count": 2,
   "id": "48250245-a537-4334-a02a-2770ac9962f2",
   "metadata": {},
   "outputs": [
    {
     "data": {
      "text/plain": [
       "\"Python's favorite food is perl\""
      ]
     },
     "execution_count": 2,
     "metadata": {},
     "output_type": "execute_result"
    }
   ],
   "source": [
    "food = \"Python's favorite food is perl\"\n",
    "food"
   ]
  },
  {
   "cell_type": "code",
   "execution_count": 3,
   "id": "f75a7675-6bed-48cc-a292-51ac53a84c38",
   "metadata": {},
   "outputs": [
    {
     "ename": "SyntaxError",
     "evalue": "unterminated string literal (detected at line 1) (2716953454.py, line 1)",
     "output_type": "error",
     "traceback": [
      "\u001b[1;36m  Cell \u001b[1;32mIn[3], line 1\u001b[1;36m\u001b[0m\n\u001b[1;33m    food = 'Python's favorite food is perl'\u001b[0m\n\u001b[1;37m                                          ^\u001b[0m\n\u001b[1;31mSyntaxError\u001b[0m\u001b[1;31m:\u001b[0m unterminated string literal (detected at line 1)\n"
     ]
    }
   ],
   "source": [
    "food = 'Python's favorite food is perl'\n",
    "food"
   ]
  },
  {
   "cell_type": "code",
   "execution_count": 6,
   "id": "9a863a98-4ad6-4060-ab75-8777c474a479",
   "metadata": {},
   "outputs": [
    {
     "ename": "_IncompleteInputError",
     "evalue": "incomplete input (1062323693.py, line 1)",
     "output_type": "error",
     "traceback": [
      "\u001b[1;36m  Cell \u001b[1;32mIn[6], line 1\u001b[1;36m\u001b[0m\n\u001b[1;33m    say = '''python is very good''he say'\u001b[0m\n\u001b[1;37m          ^\u001b[0m\n\u001b[1;31m_IncompleteInputError\u001b[0m\u001b[1;31m:\u001b[0m incomplete input\n"
     ]
    }
   ],
   "source": [
    "say = '''python is very good''he say'\n",
    "say"
   ]
  },
  {
   "cell_type": "code",
   "execution_count": 7,
   "id": "8cdb2720-cb14-443d-bab3-3ddafc9be8a1",
   "metadata": {},
   "outputs": [
    {
     "data": {
      "text/plain": [
       "'life is too '"
      ]
     },
     "execution_count": 7,
     "metadata": {},
     "output_type": "execute_result"
    }
   ],
   "source": [
    "\"\"\"life is too \"\"\""
   ]
  },
  {
   "cell_type": "code",
   "execution_count": 8,
   "id": "311962be-0bfc-4a2b-bfd6-ef0e8036e5b6",
   "metadata": {},
   "outputs": [
    {
     "data": {
      "text/plain": [
       "'life'"
      ]
     },
     "execution_count": 8,
     "metadata": {},
     "output_type": "execute_result"
    }
   ],
   "source": [
    "'''life'''"
   ]
  },
  {
   "cell_type": "code",
   "execution_count": 10,
   "id": "4c6074a1-f8a0-4e76-9a4e-e539cc3cca78",
   "metadata": {},
   "outputs": [
    {
     "name": "stdout",
     "output_type": "stream",
     "text": [
      "--------------------------------------------------\n",
      "Python is easy\n",
      "==================================================\n"
     ]
    }
   ],
   "source": [
    "print(\"-\"*50)\n",
    "print(\"Python is easy\")\n",
    "print(\"=\"*50)"
   ]
  },
  {
   "cell_type": "code",
   "execution_count": 11,
   "id": "6a94bf00-e5d0-4642-8b81-3afc9119378f",
   "metadata": {},
   "outputs": [
    {
     "data": {
      "text/plain": [
       "'20230331'"
      ]
     },
     "execution_count": 11,
     "metadata": {},
     "output_type": "execute_result"
    }
   ],
   "source": [
    "a = \"20230331Rainy\"\n",
    "date = a[:8]\n",
    "date"
   ]
  },
  {
   "cell_type": "code",
   "execution_count": 13,
   "id": "a3dcdae8-ceb9-40f1-a5d7-adfb9ad049e4",
   "metadata": {},
   "outputs": [],
   "source": [
    "weather = a[8:]"
   ]
  },
  {
   "cell_type": "code",
   "execution_count": 14,
   "id": "7a4d1fa3-c5fb-4a3d-9bbe-c96316fcf326",
   "metadata": {},
   "outputs": [
    {
     "data": {
      "text/plain": [
       "'i eat 3 apples'"
      ]
     },
     "execution_count": 14,
     "metadata": {},
     "output_type": "execute_result"
    }
   ],
   "source": [
    "\"i eat %d apples\" %3"
   ]
  },
  {
   "cell_type": "code",
   "execution_count": 15,
   "id": "99f9608f-6852-4886-a93d-c41882f98603",
   "metadata": {},
   "outputs": [
    {
     "data": {
      "text/plain": [
       "'i eat 5 apples'"
      ]
     },
     "execution_count": 15,
     "metadata": {},
     "output_type": "execute_result"
    }
   ],
   "source": [
    "\"i eat %s apples\" %5"
   ]
  },
  {
   "cell_type": "code",
   "execution_count": 17,
   "id": "cdee0749-64ab-4f6c-a625-d6edf61c46b6",
   "metadata": {},
   "outputs": [
    {
     "data": {
      "text/plain": [
       "'i eat 3 apples'"
      ]
     },
     "execution_count": 17,
     "metadata": {},
     "output_type": "execute_result"
    }
   ],
   "source": [
    "number = 3\n",
    "\"i eat %d apples\" %number"
   ]
  },
  {
   "cell_type": "code",
   "execution_count": 20,
   "id": "b087248a-754d-415e-871e-59bb8bb818ac",
   "metadata": {},
   "outputs": [
    {
     "data": {
      "text/plain": [
       "'i eat 20 apples. so i was sick for three days'"
      ]
     },
     "execution_count": 20,
     "metadata": {},
     "output_type": "execute_result"
    }
   ],
   "source": [
    "number = 20\n",
    "day = 'three'\n",
    "\"i eat %d apples. so i was sick for %s days\" %(number,day)"
   ]
  },
  {
   "cell_type": "code",
   "execution_count": 27,
   "id": "6f3803c7-53e5-4b25-87a4-962035213169",
   "metadata": {},
   "outputs": [
    {
     "data": {
      "text/plain": [
       "'나의 이름은 {name}입니다. 나이는 {age}입니다'"
      ]
     },
     "execution_count": 27,
     "metadata": {},
     "output_type": "execute_result"
    }
   ],
   "source": [
    "name = '홍길동'\n",
    "age = '30'\n",
    "'나의 이름은 {name}입니다. 나이는 {age}입니다'"
   ]
  },
  {
   "cell_type": "code",
   "execution_count": 28,
   "id": "7493c0ed-37f1-4c4d-936f-bee2df509bba",
   "metadata": {},
   "outputs": [
    {
     "data": {
      "text/plain": [
       "'나의 이름은 {name}이고 나이는 {age}입니다'"
      ]
     },
     "execution_count": 28,
     "metadata": {},
     "output_type": "execute_result"
    }
   ],
   "source": [
    "name = 'ghdrlfehd'\n",
    "age = 20\n",
    "'나의 이름은 {name}이고 나이는 {age}입니다'"
   ]
  },
  {
   "cell_type": "code",
   "execution_count": null,
   "id": "d48204dc-c527-4800-9d2f-923494920498",
   "metadata": {},
   "outputs": [],
   "source": []
  }
 ],
 "metadata": {
  "kernelspec": {
   "display_name": "Python [conda env:base] *",
   "language": "python",
   "name": "conda-base-py"
  },
  "language_info": {
   "codemirror_mode": {
    "name": "ipython",
    "version": 3
   },
   "file_extension": ".py",
   "mimetype": "text/x-python",
   "name": "python",
   "nbconvert_exporter": "python",
   "pygments_lexer": "ipython3",
   "version": "3.13.5"
  }
 },
 "nbformat": 4,
 "nbformat_minor": 5
}
