{
 "cells": [
  {
   "cell_type": "code",
   "execution_count": 51,
   "id": "37a4f34c-14f6-4330-90ae-1df3be9c448c",
   "metadata": {},
   "outputs": [],
   "source": [
    "# python 시작\n",
    "## 1. 자료형 - 숫자"
   ]
  },
  {
   "cell_type": "code",
   "execution_count": 57,
   "id": "d8e23f84-7d06-46a8-ac46-4156cc8d0e42",
   "metadata": {},
   "outputs": [],
   "source": [
    "#python 시작\n",
    "## 1. 자료형- 숫자"
   ]
  },
  {
   "cell_type": "code",
   "execution_count": 1,
   "id": "a5423f9f-8d6e-43f6-b41c-38b16f427e66",
   "metadata": {},
   "outputs": [
    {
     "name": "stdout",
     "output_type": "stream",
     "text": [
      "hello python!\n"
     ]
    }
   ],
   "source": [
    "print('hello python!')"
   ]
  },
  {
   "cell_type": "code",
   "execution_count": 52,
   "id": "997b5d92-28e0-4649-8aa0-dce173a64594",
   "metadata": {},
   "outputs": [],
   "source": [
    "### 정수형"
   ]
  },
  {
   "cell_type": "code",
   "execution_count": 2,
   "id": "d98bb61c-958d-4e11-8897-885bd468b009",
   "metadata": {},
   "outputs": [],
   "source": [
    "a = 123"
   ]
  },
  {
   "cell_type": "code",
   "execution_count": 3,
   "id": "260e40a4-61ad-489a-a4c0-446b2900f2bb",
   "metadata": {},
   "outputs": [
    {
     "data": {
      "text/plain": [
       "123"
      ]
     },
     "execution_count": 3,
     "metadata": {},
     "output_type": "execute_result"
    }
   ],
   "source": [
    "a"
   ]
  },
  {
   "cell_type": "code",
   "execution_count": 8,
   "id": "baa3e35e-aff5-4cfa-9312-e1debe43c307",
   "metadata": {},
   "outputs": [
    {
     "data": {
      "text/plain": [
       "-178"
      ]
     },
     "execution_count": 8,
     "metadata": {},
     "output_type": "execute_result"
    }
   ],
   "source": [
    "a = -178\n",
    "a"
   ]
  },
  {
   "cell_type": "code",
   "execution_count": 5,
   "id": "8ee49f64-e574-4f25-b439-ec72694447f9",
   "metadata": {},
   "outputs": [
    {
     "data": {
      "text/plain": [
       "-178"
      ]
     },
     "execution_count": 5,
     "metadata": {},
     "output_type": "execute_result"
    }
   ],
   "source": [
    "a"
   ]
  },
  {
   "cell_type": "code",
   "execution_count": 10,
   "id": "8c39604e-5a06-4540-9d8b-843edf0af0d2",
   "metadata": {},
   "outputs": [
    {
     "data": {
      "text/plain": [
       "0"
      ]
     },
     "execution_count": 10,
     "metadata": {},
     "output_type": "execute_result"
    }
   ],
   "source": [
    "a = 0\n",
    "a"
   ]
  },
  {
   "cell_type": "code",
   "execution_count": 11,
   "id": "c4dcc91a-e172-4e15-91a0-a1a259c96f2e",
   "metadata": {},
   "outputs": [
    {
     "data": {
      "text/plain": [
       "int"
      ]
     },
     "execution_count": 11,
     "metadata": {},
     "output_type": "execute_result"
    }
   ],
   "source": [
    "type(a)"
   ]
  },
  {
   "cell_type": "code",
   "execution_count": 14,
   "id": "b0d23a4b-ab79-4c3c-a47f-79178cfd5697",
   "metadata": {},
   "outputs": [
    {
     "name": "stdout",
     "output_type": "stream",
     "text": [
      "1.2\n",
      "<class 'float'>\n"
     ]
    }
   ],
   "source": [
    "a = 1.2\n",
    "print(a)\n",
    "print(type(a))"
   ]
  },
  {
   "cell_type": "code",
   "execution_count": 15,
   "id": "8a424f9d-0e3f-4175-b577-b98adb15dbda",
   "metadata": {},
   "outputs": [],
   "source": [
    "a = -3.45"
   ]
  },
  {
   "cell_type": "code",
   "execution_count": 16,
   "id": "209f4127-a4bf-483d-b575-935ca7043cf2",
   "metadata": {},
   "outputs": [
    {
     "name": "stdout",
     "output_type": "stream",
     "text": [
      "-3.45\n"
     ]
    }
   ],
   "source": [
    "print(a)"
   ]
  },
  {
   "cell_type": "code",
   "execution_count": 17,
   "id": "b6d83729-2df3-4e79-b24c-3d7daca4a3a5",
   "metadata": {},
   "outputs": [
    {
     "name": "stdout",
     "output_type": "stream",
     "text": [
      "<class 'float'>\n"
     ]
    }
   ],
   "source": [
    "print(type(a))"
   ]
  },
  {
   "cell_type": "code",
   "execution_count": 18,
   "id": "a048f978-ec54-4d76-8985-bcd020aeb1dc",
   "metadata": {},
   "outputs": [
    {
     "name": "stdout",
     "output_type": "stream",
     "text": [
      "127\n",
      "<class 'int'>\n"
     ]
    }
   ],
   "source": [
    "a = 0o177\n",
    "print(a)\n",
    "print(type(a))"
   ]
  },
  {
   "cell_type": "code",
   "execution_count": 19,
   "id": "89ce67f1-967c-4789-b6a3-709d70c09531",
   "metadata": {},
   "outputs": [
    {
     "data": {
      "text/plain": [
       "7"
      ]
     },
     "execution_count": 19,
     "metadata": {},
     "output_type": "execute_result"
    }
   ],
   "source": [
    "a = 3\n",
    "b = 4\n",
    "a+b"
   ]
  },
  {
   "cell_type": "code",
   "execution_count": 20,
   "id": "99d14fd9-a407-49cb-a25b-d03966a38522",
   "metadata": {},
   "outputs": [
    {
     "data": {
      "text/plain": [
       "-1"
      ]
     },
     "execution_count": 20,
     "metadata": {},
     "output_type": "execute_result"
    }
   ],
   "source": [
    "a-b"
   ]
  },
  {
   "cell_type": "code",
   "execution_count": 21,
   "id": "fffb2c85-8ea9-47e2-9676-4d42c9a7c8e8",
   "metadata": {},
   "outputs": [
    {
     "data": {
      "text/plain": [
       "12"
      ]
     },
     "execution_count": 21,
     "metadata": {},
     "output_type": "execute_result"
    }
   ],
   "source": [
    "a*b"
   ]
  },
  {
   "cell_type": "code",
   "execution_count": 22,
   "id": "6865375f-1e4b-4d05-82b2-0ad8ff63db92",
   "metadata": {},
   "outputs": [
    {
     "data": {
      "text/plain": [
       "0.75"
      ]
     },
     "execution_count": 22,
     "metadata": {},
     "output_type": "execute_result"
    }
   ],
   "source": [
    "a/b"
   ]
  },
  {
   "cell_type": "code",
   "execution_count": 23,
   "id": "c0281fc5-b897-4223-a402-05986106fb4d",
   "metadata": {},
   "outputs": [
    {
     "data": {
      "text/plain": [
       "81"
      ]
     },
     "execution_count": 23,
     "metadata": {},
     "output_type": "execute_result"
    }
   ],
   "source": [
    "a=3\n",
    "b=4\n",
    "a**b"
   ]
  },
  {
   "cell_type": "code",
   "execution_count": 24,
   "id": "4852bbd3-fc36-4681-8b98-e23887080b73",
   "metadata": {},
   "outputs": [
    {
     "data": {
      "text/plain": [
       "1"
      ]
     },
     "execution_count": 24,
     "metadata": {},
     "output_type": "execute_result"
    }
   ],
   "source": [
    "7%3"
   ]
  },
  {
   "cell_type": "code",
   "execution_count": 25,
   "id": "48f6171e-4ed9-4121-9ec5-8107eb72c41a",
   "metadata": {},
   "outputs": [
    {
     "data": {
      "text/plain": [
       "0"
      ]
     },
     "execution_count": 25,
     "metadata": {},
     "output_type": "execute_result"
    }
   ],
   "source": [
    "4%2"
   ]
  },
  {
   "cell_type": "code",
   "execution_count": 26,
   "id": "d376fffb-b9f5-4b20-8860-1d6915c862a3",
   "metadata": {},
   "outputs": [
    {
     "data": {
      "text/plain": [
       "1"
      ]
     },
     "execution_count": 26,
     "metadata": {},
     "output_type": "execute_result"
    }
   ],
   "source": [
    "7//4"
   ]
  },
  {
   "cell_type": "code",
   "execution_count": 27,
   "id": "bad88db0-e38f-42fc-8da2-a2005cf354b1",
   "metadata": {},
   "outputs": [
    {
     "data": {
      "text/plain": [
       "2"
      ]
     },
     "execution_count": 27,
     "metadata": {},
     "output_type": "execute_result"
    }
   ],
   "source": [
    "10//4"
   ]
  },
  {
   "cell_type": "code",
   "execution_count": 28,
   "id": "e235467c-4cd8-4044-aafc-0c075f3cae58",
   "metadata": {},
   "outputs": [],
   "source": [
    "a=78"
   ]
  },
  {
   "cell_type": "code",
   "execution_count": 29,
   "id": "434addb2-d499-433d-831c-1bfd8238c9b7",
   "metadata": {},
   "outputs": [
    {
     "data": {
      "text/plain": [
       "78"
      ]
     },
     "execution_count": 29,
     "metadata": {},
     "output_type": "execute_result"
    }
   ],
   "source": [
    "a"
   ]
  },
  {
   "cell_type": "code",
   "execution_count": 30,
   "id": "f3b549e8-64b8-4729-a507-89c260ccb69a",
   "metadata": {},
   "outputs": [
    {
     "ename": "SyntaxError",
     "evalue": "invalid syntax (1989176035.py, line 1)",
     "output_type": "error",
     "traceback": [
      "\u001b[1;36m  Cell \u001b[1;32mIn[30], line 1\u001b[1;36m\u001b[0m\n\u001b[1;33m    a=thank you\u001b[0m\n\u001b[1;37m            ^\u001b[0m\n\u001b[1;31mSyntaxError\u001b[0m\u001b[1;31m:\u001b[0m invalid syntax\n"
     ]
    }
   ],
   "source": [
    "a=thank you\n",
    "a"
   ]
  },
  {
   "cell_type": "code",
   "execution_count": 31,
   "id": "5204b2c4-c3ee-4a93-a0c9-91331e70eb68",
   "metadata": {},
   "outputs": [
    {
     "name": "stdout",
     "output_type": "stream",
     "text": [
      "thank youwelcome to\n"
     ]
    }
   ],
   "source": [
    "print('thank you' 'welcome to')"
   ]
  },
  {
   "cell_type": "code",
   "execution_count": 32,
   "id": "6156bc29-9f70-41f4-932d-84712f9b2c36",
   "metadata": {},
   "outputs": [
    {
     "name": "stdout",
     "output_type": "stream",
     "text": [
      "thank you, welcome to\n"
     ]
    }
   ],
   "source": [
    "print('thank you, welcome to')"
   ]
  },
  {
   "cell_type": "code",
   "execution_count": 33,
   "id": "c88ffb7e-cc63-4e42-a926-03f8bdac966a",
   "metadata": {},
   "outputs": [
    {
     "data": {
      "text/plain": [
       "34"
      ]
     },
     "execution_count": 33,
     "metadata": {},
     "output_type": "execute_result"
    }
   ],
   "source": [
    "b=34\n",
    "b"
   ]
  },
  {
   "cell_type": "code",
   "execution_count": 34,
   "id": "83bfb6c0-815b-463c-9cb4-0926d99d350f",
   "metadata": {},
   "outputs": [
    {
     "data": {
      "text/plain": [
       "11756638905368616011414050501310355554617941909569536"
      ]
     },
     "execution_count": 34,
     "metadata": {},
     "output_type": "execute_result"
    }
   ],
   "source": [
    "b**34"
   ]
  },
  {
   "cell_type": "code",
   "execution_count": 35,
   "id": "48cdd62f-f618-41c7-b995-55334e7905ee",
   "metadata": {},
   "outputs": [],
   "source": [
    "a=12\n",
    "b=6"
   ]
  },
  {
   "cell_type": "code",
   "execution_count": 36,
   "id": "638f35f2-ad24-4ce5-98c9-891b31bd76e7",
   "metadata": {},
   "outputs": [
    {
     "ename": "SyntaxError",
     "evalue": "invalid syntax (1540629914.py, line 1)",
     "output_type": "error",
     "traceback": [
      "\u001b[1;36m  Cell \u001b[1;32mIn[36], line 1\u001b[1;36m\u001b[0m\n\u001b[1;33m    a%\u001b[0m\n\u001b[1;37m      ^\u001b[0m\n\u001b[1;31mSyntaxError\u001b[0m\u001b[1;31m:\u001b[0m invalid syntax\n"
     ]
    }
   ],
   "source": [
    "a%"
   ]
  },
  {
   "cell_type": "code",
   "execution_count": 37,
   "id": "3bf45e01-8e73-4ec7-9af5-a71feb9009f4",
   "metadata": {},
   "outputs": [
    {
     "ename": "SyntaxError",
     "evalue": "invalid syntax (1546507187.py, line 1)",
     "output_type": "error",
     "traceback": [
      "\u001b[1;36m  Cell \u001b[1;32mIn[37], line 1\u001b[1;36m\u001b[0m\n\u001b[1;33m    a/b%\u001b[0m\n\u001b[1;37m        ^\u001b[0m\n\u001b[1;31mSyntaxError\u001b[0m\u001b[1;31m:\u001b[0m invalid syntax\n"
     ]
    }
   ],
   "source": [
    "a/b%"
   ]
  },
  {
   "cell_type": "code",
   "execution_count": 38,
   "id": "4a48fb81-d543-4bd4-92df-3070befdf9a3",
   "metadata": {},
   "outputs": [
    {
     "data": {
      "text/plain": [
       "0"
      ]
     },
     "execution_count": 38,
     "metadata": {},
     "output_type": "execute_result"
    }
   ],
   "source": [
    "12%6"
   ]
  },
  {
   "cell_type": "code",
   "execution_count": 39,
   "id": "933d3396-f72b-4c24-8609-4fc008f05d7d",
   "metadata": {},
   "outputs": [
    {
     "data": {
      "text/plain": [
       "5"
      ]
     },
     "execution_count": 39,
     "metadata": {},
     "output_type": "execute_result"
    }
   ],
   "source": [
    "12%7"
   ]
  },
  {
   "cell_type": "code",
   "execution_count": 40,
   "id": "b13363a2-9e04-43f9-8ea7-c35093c6fe79",
   "metadata": {},
   "outputs": [
    {
     "data": {
      "text/plain": [
       "1"
      ]
     },
     "execution_count": 40,
     "metadata": {},
     "output_type": "execute_result"
    }
   ],
   "source": [
    "12//7"
   ]
  },
  {
   "cell_type": "code",
   "execution_count": 41,
   "id": "16e2f4ce-9cc2-4ca3-a3c3-f70d67c366c4",
   "metadata": {},
   "outputs": [
    {
     "data": {
      "text/plain": [
       "2"
      ]
     },
     "execution_count": 41,
     "metadata": {},
     "output_type": "execute_result"
    }
   ],
   "source": [
    "12//5"
   ]
  },
  {
   "cell_type": "code",
   "execution_count": 42,
   "id": "069b4387-3b7d-47cb-87e5-fd5f3fa7a1bc",
   "metadata": {},
   "outputs": [
    {
     "data": {
      "text/plain": [
       "2"
      ]
     },
     "execution_count": 42,
     "metadata": {},
     "output_type": "execute_result"
    }
   ],
   "source": [
    "12%5"
   ]
  },
  {
   "cell_type": "code",
   "execution_count": 43,
   "id": "c08ca0f0-f70c-49bb-be08-2cfa0d51bdc3",
   "metadata": {},
   "outputs": [
    {
     "data": {
      "text/plain": [
       "0"
      ]
     },
     "execution_count": 43,
     "metadata": {},
     "output_type": "execute_result"
    }
   ],
   "source": [
    "12%4"
   ]
  },
  {
   "cell_type": "code",
   "execution_count": 44,
   "id": "856b4b76-c5c6-4ed3-bad1-ea1224655fb6",
   "metadata": {},
   "outputs": [
    {
     "data": {
      "text/plain": [
       "0"
      ]
     },
     "execution_count": 44,
     "metadata": {},
     "output_type": "execute_result"
    }
   ],
   "source": [
    "12%4"
   ]
  },
  {
   "cell_type": "code",
   "execution_count": 45,
   "id": "0abeaf93-5356-443b-ad9f-680af5180e9f",
   "metadata": {},
   "outputs": [
    {
     "data": {
      "text/plain": [
       "4"
      ]
     },
     "execution_count": 45,
     "metadata": {},
     "output_type": "execute_result"
    }
   ],
   "source": [
    "12%8"
   ]
  },
  {
   "cell_type": "code",
   "execution_count": 46,
   "id": "60ef5b16-2b48-4fe9-aded-712b9d6e327c",
   "metadata": {},
   "outputs": [
    {
     "data": {
      "text/plain": [
       "1"
      ]
     },
     "execution_count": 46,
     "metadata": {},
     "output_type": "execute_result"
    }
   ],
   "source": [
    "12//8"
   ]
  },
  {
   "cell_type": "code",
   "execution_count": 47,
   "id": "cf7b154d-bcd8-4452-a3b2-786abb746a97",
   "metadata": {},
   "outputs": [
    {
     "name": "stdout",
     "output_type": "stream",
     "text": [
      "a\n"
     ]
    }
   ],
   "source": [
    "print('a')"
   ]
  },
  {
   "cell_type": "markdown",
   "id": "a4cfdf5b-4711-4473-865b-efd4440b5578",
   "metadata": {},
   "source": [
    "### 문자열을 python으로 바꾸려면"
   ]
  },
  {
   "cell_type": "code",
   "execution_count": 1,
   "id": "1591b936-1830-48ca-9921-7280c119d1f1",
   "metadata": {},
   "outputs": [
    {
     "data": {
      "text/plain": [
       "'i'"
      ]
     },
     "execution_count": 1,
     "metadata": {},
     "output_type": "execute_result"
    }
   ],
   "source": [
    "a='pithon'\n",
    "a[1]"
   ]
  },
  {
   "cell_type": "code",
   "execution_count": 2,
   "id": "63e6fb00-5eb8-41c2-b498-d8dceff2edd4",
   "metadata": {},
   "outputs": [
    {
     "ename": "TypeError",
     "evalue": "'str' object does not support item assignment",
     "output_type": "error",
     "traceback": [
      "\u001b[1;31m---------------------------------------------------------------------------\u001b[0m",
      "\u001b[1;31mTypeError\u001b[0m                                 Traceback (most recent call last)",
      "Cell \u001b[1;32mIn[2], line 1\u001b[0m\n\u001b[1;32m----> 1\u001b[0m a[\u001b[38;5;241m1\u001b[39m] \u001b[38;5;241m=\u001b[39m \u001b[38;5;124m'\u001b[39m\u001b[38;5;124my\u001b[39m\u001b[38;5;124m'\u001b[39m\n",
      "\u001b[1;31mTypeError\u001b[0m: 'str' object does not support item assignment"
     ]
    }
   ],
   "source": [
    "a[1] = 'y'"
   ]
  },
  {
   "cell_type": "code",
   "execution_count": 3,
   "id": "cdf57688-978e-40c2-b2da-6d0c256b8c8a",
   "metadata": {},
   "outputs": [
    {
     "name": "stdout",
     "output_type": "stream",
     "text": [
      "def\n"
     ]
    }
   ],
   "source": [
    "b='abc'\n",
    "b='def'\n",
    "print(b)"
   ]
  },
  {
   "cell_type": "code",
   "execution_count": 4,
   "id": "cb1eaf8a-cef4-4e62-aea7-bd9ddfa8ed38",
   "metadata": {},
   "outputs": [
    {
     "ename": "NameError",
     "evalue": "name 'pring' is not defined",
     "output_type": "error",
     "traceback": [
      "\u001b[1;31m---------------------------------------------------------------------------\u001b[0m",
      "\u001b[1;31mNameError\u001b[0m                                 Traceback (most recent call last)",
      "Cell \u001b[1;32mIn[4], line 1\u001b[0m\n\u001b[1;32m----> 1\u001b[0m pring(a)\n",
      "\u001b[1;31mNameError\u001b[0m: name 'pring' is not defined"
     ]
    }
   ],
   "source": [
    "pring(a)"
   ]
  },
  {
   "cell_type": "code",
   "execution_count": 5,
   "id": "2d443d99-3af6-4ceb-9ff7-d9e4c496b8ba",
   "metadata": {},
   "outputs": [
    {
     "name": "stdout",
     "output_type": "stream",
     "text": [
      "pithon\n"
     ]
    }
   ],
   "source": [
    "print(a)"
   ]
  },
  {
   "cell_type": "code",
   "execution_count": 6,
   "id": "b700c2af-77f0-442e-8f95-9a61b6fc0d93",
   "metadata": {},
   "outputs": [],
   "source": [
    "b=a[0]+'y'+a[2:]"
   ]
  },
  {
   "cell_type": "code",
   "execution_count": 7,
   "id": "3a2a6cd9-aa3a-4d2d-92b6-e140dce658e3",
   "metadata": {},
   "outputs": [
    {
     "name": "stdout",
     "output_type": "stream",
     "text": [
      "python\n"
     ]
    }
   ],
   "source": [
    "print(b)"
   ]
  },
  {
   "cell_type": "code",
   "execution_count": 8,
   "id": "ddae9807-e7cd-4bd7-a534-c24a39f12962",
   "metadata": {},
   "outputs": [
    {
     "name": "stdout",
     "output_type": "stream",
     "text": [
      "현재 온도는 18도 입니다\n"
     ]
    }
   ],
   "source": [
    "a='현재 온도는 18도 입니다'\n",
    "print(a)"
   ]
  },
  {
   "cell_type": "markdown",
   "id": "12a3d9ab-b94e-447a-b0e3-7125024e7aeb",
   "metadata": {},
   "source": [
    "### 무자열 포매팅"
   ]
  },
  {
   "cell_type": "code",
   "execution_count": 9,
   "id": "96b26eda-2906-4b88-9b30-cb496ea3e24b",
   "metadata": {},
   "outputs": [
    {
     "data": {
      "text/plain": [
       "'i eat 2 apples, '"
      ]
     },
     "execution_count": 9,
     "metadata": {},
     "output_type": "execute_result"
    }
   ],
   "source": [
    "\"i eat %d apples, \"%2"
   ]
  },
  {
   "cell_type": "code",
   "execution_count": 10,
   "id": "657dffa2-8747-4ba7-88f5-f8e2e03e2dcd",
   "metadata": {},
   "outputs": [
    {
     "ename": "TypeError",
     "evalue": "%d format: a real number is required, not str",
     "output_type": "error",
     "traceback": [
      "\u001b[1;31m---------------------------------------------------------------------------\u001b[0m",
      "\u001b[1;31mTypeError\u001b[0m                                 Traceback (most recent call last)",
      "Cell \u001b[1;32mIn[10], line 1\u001b[0m\n\u001b[1;32m----> 1\u001b[0m \u001b[38;5;124m\"\u001b[39m\u001b[38;5;124mi eat \u001b[39m\u001b[38;5;132;01m%d\u001b[39;00m\u001b[38;5;124m apples, \u001b[39m\u001b[38;5;124m\"\u001b[39m\u001b[38;5;241m%\u001b[39m\u001b[38;5;124m\"\u001b[39m\u001b[38;5;124mabc\u001b[39m\u001b[38;5;124m\"\u001b[39m\n",
      "\u001b[1;31mTypeError\u001b[0m: %d format: a real number is required, not str"
     ]
    }
   ],
   "source": [
    "\"i eat %d apples, \"%\"abc\""
   ]
  },
  {
   "cell_type": "code",
   "execution_count": 11,
   "id": "ca0e6bfd-f452-4742-8e41-5aeda41f4cef",
   "metadata": {},
   "outputs": [
    {
     "data": {
      "text/plain": [
       "'i eat abc apples, '"
      ]
     },
     "execution_count": 11,
     "metadata": {},
     "output_type": "execute_result"
    }
   ],
   "source": [
    "\"i eat %s apples, \"%\"abc\""
   ]
  },
  {
   "cell_type": "code",
   "execution_count": 13,
   "id": "384604c0-18a2-44d8-9997-c315ce86c1f1",
   "metadata": {},
   "outputs": [
    {
     "data": {
      "text/plain": [
       "'i eat 5 apples, '"
      ]
     },
     "execution_count": 13,
     "metadata": {},
     "output_type": "execute_result"
    }
   ],
   "source": [
    "\"i eat %s apples, \"%\"5\""
   ]
  },
  {
   "cell_type": "code",
   "execution_count": 16,
   "id": "8183c69e-d35f-4db5-ab48-db95ff0f28bb",
   "metadata": {},
   "outputs": [
    {
     "data": {
      "text/plain": [
       "'i eat 3 apples'"
      ]
     },
     "execution_count": 16,
     "metadata": {},
     "output_type": "execute_result"
    }
   ],
   "source": [
    "number=3\n",
    "\"i eat %d apples\"%3"
   ]
  },
  {
   "cell_type": "code",
   "execution_count": 17,
   "id": "5dd2b0f1-a53f-4936-9c55-8f5327041e23",
   "metadata": {},
   "outputs": [
    {
     "ename": "ValueError",
     "evalue": "incomplete format",
     "output_type": "error",
     "traceback": [
      "\u001b[1;31m---------------------------------------------------------------------------\u001b[0m",
      "\u001b[1;31mValueError\u001b[0m                                Traceback (most recent call last)",
      "Cell \u001b[1;32mIn[17], line 2\u001b[0m\n\u001b[0;32m      1\u001b[0m \u001b[38;5;66;03m# 포멧코드와 문자%를 같이 사용\u001b[39;00m\n\u001b[1;32m----> 2\u001b[0m \u001b[38;5;124m'\u001b[39m\u001b[38;5;124merror is \u001b[39m\u001b[38;5;132;01m%d\u001b[39;00m\u001b[38;5;124m%\u001b[39m\u001b[38;5;124m'\u001b[39m\u001b[38;5;241m%\u001b[39m\u001b[38;5;241m98\u001b[39m\n",
      "\u001b[1;31mValueError\u001b[0m: incomplete format"
     ]
    }
   ],
   "source": [
    "# 포멧코드와 문자%를 같이 사용\n",
    "'error is %d%'%98"
   ]
  },
  {
   "cell_type": "code",
   "execution_count": 18,
   "id": "d797b478-e438-4561-932a-03b2515f171e",
   "metadata": {},
   "outputs": [
    {
     "data": {
      "text/plain": [
       "'error is 98%'"
      ]
     },
     "execution_count": 18,
     "metadata": {},
     "output_type": "execute_result"
    }
   ],
   "source": [
    "'error is %d%%'%98"
   ]
  },
  {
   "cell_type": "code",
   "execution_count": 19,
   "id": "115297ff-c894-454c-a170-569813b4be04",
   "metadata": {},
   "outputs": [
    {
     "data": {
      "text/plain": [
       "'        hi'"
      ]
     },
     "execution_count": 19,
     "metadata": {},
     "output_type": "execute_result"
    }
   ],
   "source": [
    "\"%10s\"%\"hi\""
   ]
  },
  {
   "cell_type": "code",
   "execution_count": 20,
   "id": "70e926a2-8847-412f-883d-508a90e7d02f",
   "metadata": {},
   "outputs": [
    {
     "ename": "NameError",
     "evalue": "name 'lend' is not defined",
     "output_type": "error",
     "traceback": [
      "\u001b[1;31m---------------------------------------------------------------------------\u001b[0m",
      "\u001b[1;31mNameError\u001b[0m                                 Traceback (most recent call last)",
      "Cell \u001b[1;32mIn[20], line 1\u001b[0m\n\u001b[1;32m----> 1\u001b[0m lend(a)\n",
      "\u001b[1;31mNameError\u001b[0m: name 'lend' is not defined"
     ]
    }
   ],
   "source": [
    "lend(a)"
   ]
  },
  {
   "cell_type": "code",
   "execution_count": 21,
   "id": "abc92eed-a29d-49af-bd1f-0d582d09aadf",
   "metadata": {},
   "outputs": [
    {
     "data": {
      "text/plain": [
       "14"
      ]
     },
     "execution_count": 21,
     "metadata": {},
     "output_type": "execute_result"
    }
   ],
   "source": [
    "len(a)"
   ]
  },
  {
   "cell_type": "code",
   "execution_count": 22,
   "id": "90c650ea-3c46-47da-bd89-d1704400241c",
   "metadata": {},
   "outputs": [
    {
     "data": {
      "text/plain": [
       "'        안녕'"
      ]
     },
     "execution_count": 22,
     "metadata": {},
     "output_type": "execute_result"
    }
   ],
   "source": [
    "\"%10s\"%\"안녕\""
   ]
  },
  {
   "cell_type": "code",
   "execution_count": 23,
   "id": "2a4a7582-1323-4aae-b4bc-b3f696e36164",
   "metadata": {},
   "outputs": [
    {
     "data": {
      "text/plain": [
       "14"
      ]
     },
     "execution_count": 23,
     "metadata": {},
     "output_type": "execute_result"
    }
   ],
   "source": [
    "len(a)"
   ]
  },
  {
   "cell_type": "code",
   "execution_count": 24,
   "id": "81b0833f-84db-4001-bf97-3196270e346b",
   "metadata": {},
   "outputs": [
    {
     "name": "stdout",
     "output_type": "stream",
     "text": [
      "        hi\n"
     ]
    }
   ],
   "source": [
    "a=\"%10s\"%\"hi\"\n",
    "print(a)"
   ]
  },
  {
   "cell_type": "code",
   "execution_count": 25,
   "id": "8e490f7d-5cb7-49c1-b587-d10fbb4ec700",
   "metadata": {},
   "outputs": [
    {
     "data": {
      "text/plain": [
       "10"
      ]
     },
     "execution_count": 25,
     "metadata": {},
     "output_type": "execute_result"
    }
   ],
   "source": [
    "len(a)"
   ]
  },
  {
   "cell_type": "code",
   "execution_count": 26,
   "id": "66bde9ac-dd71-43b8-8bfd-1c63ecefbd24",
   "metadata": {},
   "outputs": [
    {
     "data": {
      "text/plain": [
       "'5.1246'"
      ]
     },
     "execution_count": 26,
     "metadata": {},
     "output_type": "execute_result"
    }
   ],
   "source": [
    "\"%0.4f\"%5.12457865445"
   ]
  },
  {
   "cell_type": "code",
   "execution_count": 30,
   "id": "1b7fb875-5b1a-4d06-ac3e-7d3c70d324cb",
   "metadata": {},
   "outputs": [
    {
     "data": {
      "text/plain": [
       "'5.1246'"
      ]
     },
     "execution_count": 30,
     "metadata": {},
     "output_type": "execute_result"
    }
   ],
   "source": [
    "f = \"%0.4f\"%5.12457865445\n",
    "f"
   ]
  },
  {
   "cell_type": "code",
   "execution_count": 31,
   "id": "019f918d-92a4-4124-add2-156501322741",
   "metadata": {},
   "outputs": [
    {
     "data": {
      "text/plain": [
       "6"
      ]
     },
     "execution_count": 31,
     "metadata": {},
     "output_type": "execute_result"
    }
   ],
   "source": [
    "len(f)"
   ]
  },
  {
   "cell_type": "code",
   "execution_count": 32,
   "id": "f00f683f-3266-4f76-b2e6-a63e32d288ee",
   "metadata": {},
   "outputs": [
    {
     "data": {
      "text/plain": [
       "'i eat 3apple.'"
      ]
     },
     "execution_count": 32,
     "metadata": {},
     "output_type": "execute_result"
    }
   ],
   "source": [
    "\"i eat {}apple.\".format(3)"
   ]
  },
  {
   "cell_type": "code",
   "execution_count": 34,
   "id": "7c886547-a144-4c34-b301-4ab9b0724bad",
   "metadata": {},
   "outputs": [
    {
     "data": {
      "text/plain": [
       "'i eat five apple.'"
      ]
     },
     "execution_count": 34,
     "metadata": {},
     "output_type": "execute_result"
    }
   ],
   "source": [
    "\"i eat {} apple.\".format(\"five\")"
   ]
  },
  {
   "cell_type": "code",
   "execution_count": 35,
   "id": "b150ad58-2f2e-4d8c-9703-2b9b07bef091",
   "metadata": {},
   "outputs": [
    {
     "data": {
      "text/plain": [
       "'i eat 3apple.'"
      ]
     },
     "execution_count": 35,
     "metadata": {},
     "output_type": "execute_result"
    }
   ],
   "source": [
    "number=3\n",
    "\"i eat {}apple.\".format(number)"
   ]
  },
  {
   "cell_type": "code",
   "execution_count": 36,
   "id": "98f49908-3ed1-4267-906a-c451f725ea0e",
   "metadata": {},
   "outputs": [
    {
     "data": {
      "text/plain": [
       "'I ate 10 apples, so I was sick for three days.'"
      ]
     },
     "execution_count": 36,
     "metadata": {},
     "output_type": "execute_result"
    }
   ],
   "source": [
    "\"I ate {} apples, so I was sick for {} days.\".format(10, \"three\")"
   ]
  },
  {
   "cell_type": "code",
   "execution_count": 37,
   "id": "30d5f39d-6a48-44b8-8f32-f958497857e1",
   "metadata": {},
   "outputs": [
    {
     "data": {
      "text/plain": [
       "'I ate 1 apples, so I was sick for 0 days.'"
      ]
     },
     "execution_count": 37,
     "metadata": {},
     "output_type": "execute_result"
    }
   ],
   "source": [
    "\"I ate {} apples, so I was sick for {} days.\".format(1,0)"
   ]
  },
  {
   "cell_type": "code",
   "execution_count": 38,
   "id": "f2371944-f54d-4844-aa5d-9859957ef630",
   "metadata": {},
   "outputs": [
    {
     "data": {
      "text/plain": [
       "'I ate 10 apples, so I was sick for 3 days.'"
      ]
     },
     "execution_count": 38,
     "metadata": {},
     "output_type": "execute_result"
    }
   ],
   "source": [
    "number=10\n",
    "day=3\n",
    "\"I ate {} apples, so I was sick for {} days.\".format(number, day)"
   ]
  },
  {
   "cell_type": "code",
   "execution_count": 40,
   "id": "6d714164-b016-4ade-9215-9dd787b54a96",
   "metadata": {},
   "outputs": [
    {
     "data": {
      "text/plain": [
       "'I ate 10 apples, so I was sick for 3 days.'"
      ]
     },
     "execution_count": 40,
     "metadata": {},
     "output_type": "execute_result"
    }
   ],
   "source": [
    "number=10\n",
    "day=3\n",
    "\"I ate {number} apples, so I was sick for {day} days.\".format(number=number, day=day)"
   ]
  },
  {
   "cell_type": "code",
   "execution_count": 41,
   "id": "72c85430-4129-4520-92fd-eb2a900f0fc2",
   "metadata": {},
   "outputs": [
    {
     "data": {
      "text/plain": [
       "'hi        '"
      ]
     },
     "execution_count": 41,
     "metadata": {},
     "output_type": "execute_result"
    }
   ],
   "source": [
    "\"{:10}\".format(\"hi\")"
   ]
  },
  {
   "cell_type": "code",
   "execution_count": 42,
   "id": "b2c0c5e8-3d26-451e-bf73-a43b27630281",
   "metadata": {},
   "outputs": [
    {
     "data": {
      "text/plain": [
       "'        hi'"
      ]
     },
     "execution_count": 42,
     "metadata": {},
     "output_type": "execute_result"
    }
   ],
   "source": [
    "\"{:>10}\".format(\"hi\")"
   ]
  },
  {
   "cell_type": "code",
   "execution_count": 43,
   "id": "d36caa56-f5e6-4974-818f-0858cc9153be",
   "metadata": {},
   "outputs": [
    {
     "data": {
      "text/plain": [
       "'    hi    '"
      ]
     },
     "execution_count": 43,
     "metadata": {},
     "output_type": "execute_result"
    }
   ],
   "source": [
    "\"{:^10}\".format(\"hi\")"
   ]
  },
  {
   "cell_type": "code",
   "execution_count": 44,
   "id": "a09b9730-1147-40d9-a3f0-80e69c270363",
   "metadata": {},
   "outputs": [
    {
     "data": {
      "text/plain": [
       "'====hi===='"
      ]
     },
     "execution_count": 44,
     "metadata": {},
     "output_type": "execute_result"
    }
   ],
   "source": [
    "\"{:=^10}\".format(\"hi\")"
   ]
  },
  {
   "cell_type": "code",
   "execution_count": 45,
   "id": "b221ab51-d4a3-4955-ba19-4150227a2ef5",
   "metadata": {},
   "outputs": [
    {
     "data": {
      "text/plain": [
       "'!!!!hi!!!!'"
      ]
     },
     "execution_count": 45,
     "metadata": {},
     "output_type": "execute_result"
    }
   ],
   "source": [
    "\"{:!^10}\".format(\"hi\")"
   ]
  },
  {
   "cell_type": "code",
   "execution_count": 46,
   "id": "8fa6cd3d-863f-46f9-be56-555b443ff5d8",
   "metadata": {},
   "outputs": [
    {
     "data": {
      "text/plain": [
       "'    3.4213'"
      ]
     },
     "execution_count": 46,
     "metadata": {},
     "output_type": "execute_result"
    }
   ],
   "source": [
    "\"{:10.4f}\".format(3.4213457)"
   ]
  },
  {
   "cell_type": "code",
   "execution_count": 47,
   "id": "fa163837-f0fb-405f-a7e7-fa72b1b640e1",
   "metadata": {},
   "outputs": [
    {
     "data": {
      "text/plain": [
       "'{and}'"
      ]
     },
     "execution_count": 47,
     "metadata": {},
     "output_type": "execute_result"
    }
   ],
   "source": [
    "\"{{and}}\".format()"
   ]
  },
  {
   "cell_type": "code",
   "execution_count": 48,
   "id": "39112a10-91d3-48bb-a362-3f6f060ca2dd",
   "metadata": {},
   "outputs": [
    {
     "data": {
      "text/plain": [
       "'{and}'"
      ]
     },
     "execution_count": 48,
     "metadata": {},
     "output_type": "execute_result"
    }
   ],
   "source": [
    "\"{}\".format('{and}')"
   ]
  },
  {
   "cell_type": "code",
   "execution_count": 50,
   "id": "ae555723-e94d-40cf-a6bf-ab1c0e8f1da8",
   "metadata": {},
   "outputs": [
    {
     "data": {
      "text/plain": [
       "'나의 이름은 이기화입니다. 나이는 54입니다'"
      ]
     },
     "execution_count": 50,
     "metadata": {},
     "output_type": "execute_result"
    }
   ],
   "source": [
    "name=\"이기화\"\n",
    "age=54\n",
    "f\"나의 이름은 {name}입니다. 나이는 {age}입니다\""
   ]
  },
  {
   "cell_type": "code",
   "execution_count": 51,
   "id": "f941eb0d-140c-43cf-92fc-c6ea942018bc",
   "metadata": {},
   "outputs": [
    {
     "data": {
      "text/plain": [
       "'나는 내년에 55입니다'"
      ]
     },
     "execution_count": 51,
     "metadata": {},
     "output_type": "execute_result"
    }
   ],
   "source": [
    "f\"나는 내년에 {age+1}입니다\""
   ]
  },
  {
   "cell_type": "code",
   "execution_count": 55,
   "id": "cc044430-f783-4f77-999b-c7a1ed9681f9",
   "metadata": {},
   "outputs": [],
   "source": [
    "d={'name': \"이기화\", 'age': 30}"
   ]
  },
  {
   "cell_type": "code",
   "execution_count": 57,
   "id": "45f72460-e2ae-4e00-a388-39eae10b0f25",
   "metadata": {},
   "outputs": [
    {
     "ename": "KeyError",
     "evalue": "'이기화'",
     "output_type": "error",
     "traceback": [
      "\u001b[1;31m---------------------------------------------------------------------------\u001b[0m",
      "\u001b[1;31mKeyError\u001b[0m                                  Traceback (most recent call last)",
      "Cell \u001b[1;32mIn[57], line 1\u001b[0m\n\u001b[1;32m----> 1\u001b[0m \u001b[38;5;124mf\u001b[39m\u001b[38;5;124m\"\u001b[39m\u001b[38;5;124m나의 이름은 \u001b[39m\u001b[38;5;132;01m{\u001b[39;00md[name]\u001b[38;5;132;01m}\u001b[39;00m\u001b[38;5;124m입니다. 나이는 \u001b[39m\u001b[38;5;132;01m{\u001b[39;00md[age]\u001b[38;5;132;01m}\u001b[39;00m\u001b[38;5;124m입니다\u001b[39m\u001b[38;5;124m\"\u001b[39m\n",
      "\u001b[1;31mKeyError\u001b[0m: '이기화'"
     ]
    }
   ],
   "source": [
    "f\"나의 이름은 {d[name]}입니다. 나이는 {d[age]}입니다\""
   ]
  },
  {
   "cell_type": "code",
   "execution_count": 59,
   "id": "5fffc4fe-9f70-4ea2-9524-22b9a5fc6bce",
   "metadata": {},
   "outputs": [
    {
     "data": {
      "text/plain": [
       "'    3.4213'"
      ]
     },
     "execution_count": 59,
     "metadata": {},
     "output_type": "execute_result"
    }
   ],
   "source": [
    "f\"{3.421342:10.4f}\""
   ]
  },
  {
   "cell_type": "markdown",
   "id": "68072b39-704c-4b33-a6eb-8625f0b00daf",
   "metadata": {},
   "source": [
    "## 문자열 관련 함수들"
   ]
  },
  {
   "cell_type": "code",
   "execution_count": 61,
   "id": "706da37b-4dac-4220-b1c8-15129fc348d4",
   "metadata": {},
   "outputs": [
    {
     "name": "stdout",
     "output_type": "stream",
     "text": [
      "hobby\n"
     ]
    }
   ],
   "source": [
    "# count(): 문자 개수 세기\n",
    "a=\"hobby\"\n",
    "print(a)"
   ]
  },
  {
   "cell_type": "code",
   "execution_count": 62,
   "id": "4cd1cac2-5aed-4ff0-8851-487e9487a9e4",
   "metadata": {},
   "outputs": [
    {
     "data": {
      "text/plain": [
       "2"
      ]
     },
     "execution_count": 62,
     "metadata": {},
     "output_type": "execute_result"
    }
   ],
   "source": [
    "a.count('b')"
   ]
  },
  {
   "cell_type": "code",
   "execution_count": 64,
   "id": "27ae4ea0-cb31-48da-8e80-10cff6580ed5",
   "metadata": {},
   "outputs": [
    {
     "data": {
      "text/plain": [
       "2"
      ]
     },
     "execution_count": 64,
     "metadata": {},
     "output_type": "execute_result"
    }
   ],
   "source": [
    "\"samsung\".count('s')"
   ]
  },
  {
   "cell_type": "code",
   "execution_count": 71,
   "id": "e525fea3-c320-4fac-81b1-d4cdb37e1add",
   "metadata": {},
   "outputs": [
    {
     "data": {
      "text/plain": [
       "14"
      ]
     },
     "execution_count": 71,
     "metadata": {},
     "output_type": "execute_result"
    }
   ],
   "source": [
    "#fine() 위치찾기\n",
    "\"python is the best choice\".find('b')"
   ]
  },
  {
   "cell_type": "code",
   "execution_count": 72,
   "id": "682c3c83-168c-445d-b559-c558d0f06084",
   "metadata": {},
   "outputs": [
    {
     "data": {
      "text/plain": [
       "'a,b,c,d'"
      ]
     },
     "execution_count": 72,
     "metadata": {},
     "output_type": "execute_result"
    }
   ],
   "source": [
    "# join() 문자열 삽입\n",
    "\",\".join('abcd')"
   ]
  },
  {
   "cell_type": "code",
   "execution_count": 75,
   "id": "64ca286f-53c5-41aa-909e-b7b640d0635f",
   "metadata": {},
   "outputs": [
    {
     "data": {
      "text/plain": [
       "['a', 'b', 'c', 'd']"
      ]
     },
     "execution_count": 75,
     "metadata": {},
     "output_type": "execute_result"
    }
   ],
   "source": [
    "list = ['a', 'b', 'c', 'd']\n",
    "list"
   ]
  },
  {
   "cell_type": "code",
   "execution_count": 86,
   "id": "0093814f-d354-4a21-a669-98eba3e48b18",
   "metadata": {},
   "outputs": [
    {
     "data": {
      "text/plain": [
       "'abcd'"
      ]
     },
     "execution_count": 86,
     "metadata": {},
     "output_type": "execute_result"
    }
   ],
   "source": [
    "# \"\", '' 다 가능\n",
    "\n",
    "''.join(list)"
   ]
  },
  {
   "cell_type": "code",
   "execution_count": 78,
   "id": "631dd0b4-2d3f-42f9-be6a-b01b71037ec4",
   "metadata": {},
   "outputs": [
    {
     "name": "stdout",
     "output_type": "stream",
     "text": [
      "a,b,c,d\n",
      "<class 'list'>\n"
     ]
    }
   ],
   "source": [
    "list_join = \",\".join(list)\n",
    "print(list_join)\n",
    "print(type(list))"
   ]
  },
  {
   "cell_type": "code",
   "execution_count": 79,
   "id": "5f43f778-142d-4a05-9a63-c204e2930804",
   "metadata": {},
   "outputs": [
    {
     "data": {
      "text/plain": [
       "'HI'"
      ]
     },
     "execution_count": 79,
     "metadata": {},
     "output_type": "execute_result"
    }
   ],
   "source": [
    "# upper() : 소문자를 대문자로\n",
    "'hi'.upper()"
   ]
  },
  {
   "cell_type": "code",
   "execution_count": 81,
   "id": "cfcd9e39-eaa8-43c0-bcad-17dd00f206bb",
   "metadata": {},
   "outputs": [
    {
     "data": {
      "text/plain": [
       "'hi'"
      ]
     },
     "execution_count": 81,
     "metadata": {},
     "output_type": "execute_result"
    }
   ],
   "source": [
    "# lower() : 대문자를 소문자로\n",
    "'HI'.lower()"
   ]
  },
  {
   "cell_type": "code",
   "execution_count": 83,
   "id": "c52b91de-b020-4850-aed0-30ff6f7ce899",
   "metadata": {},
   "outputs": [
    {
     "data": {
      "text/plain": [
       "'hi    '"
      ]
     },
     "execution_count": 83,
     "metadata": {},
     "output_type": "execute_result"
    }
   ],
   "source": [
    "#lstrip() : 왼쪽 공백 제거\n",
    "\"   hi    \".lstrip()"
   ]
  },
  {
   "cell_type": "code",
   "execution_count": 84,
   "id": "dbd117c5-0ff0-4b62-81d9-8d26a0bc3f22",
   "metadata": {},
   "outputs": [
    {
     "data": {
      "text/plain": [
       "'hi'"
      ]
     },
     "execution_count": 84,
     "metadata": {},
     "output_type": "execute_result"
    }
   ],
   "source": [
    "# strip() : 양쪽 공백 제거\n",
    "\"        hi         \".strip()"
   ]
  },
  {
   "cell_type": "code",
   "execution_count": 87,
   "id": "4cdc8422-478b-489d-9205-820e9c00758b",
   "metadata": {},
   "outputs": [
    {
     "data": {
      "text/plain": [
       "'your leg is too short'"
      ]
     },
     "execution_count": 87,
     "metadata": {},
     "output_type": "execute_result"
    }
   ],
   "source": [
    "#replace() : 문자열 바꾸기\n",
    "\n",
    "\"life is too short\".replace(\"life\",\"your leg\")"
   ]
  },
  {
   "cell_type": "code",
   "execution_count": 91,
   "id": "1fb67b5f-29b3-4b0c-bb12-5c40004ef2d2",
   "metadata": {},
   "outputs": [
    {
     "name": "stdout",
     "output_type": "stream",
     "text": [
      "['life', 'is', 'too', 'short']\n",
      "<class 'str'>\n"
     ]
    }
   ],
   "source": [
    "# split() : 문자열 나누기\n",
    "\n",
    "a = \"life is too short\"\n",
    "b= a.split()\n",
    "\n",
    "print(b)\n",
    "print(type('b'))"
   ]
  },
  {
   "cell_type": "code",
   "execution_count": 94,
   "id": "33ecef38-b250-4fd3-a618-9b0c33611658",
   "metadata": {},
   "outputs": [
    {
     "data": {
      "text/plain": [
       "['a', 'b', 'c', 'd']"
      ]
     },
     "execution_count": 94,
     "metadata": {},
     "output_type": "execute_result"
    }
   ],
   "source": [
    "c = \"a,b,c,d\"\n",
    "c.split(',')"
   ]
  },
  {
   "cell_type": "code",
   "execution_count": 95,
   "id": "0d3d5db9-4e21-4953-b0ce-11b1d5e79b10",
   "metadata": {},
   "outputs": [
    {
     "data": {
      "text/plain": [
       "'HI'"
      ]
     },
     "execution_count": 95,
     "metadata": {},
     "output_type": "execute_result"
    }
   ],
   "source": [
    "a = \"hi\"\n",
    "a.upper()"
   ]
  },
  {
   "cell_type": "code",
   "execution_count": 96,
   "id": "0eca4655-fe3a-4a81-ac01-761f49c2bdf1",
   "metadata": {},
   "outputs": [
    {
     "data": {
      "text/plain": [
       "'hi'"
      ]
     },
     "execution_count": 96,
     "metadata": {},
     "output_type": "execute_result"
    }
   ],
   "source": [
    "a"
   ]
  },
  {
   "cell_type": "code",
   "execution_count": null,
   "id": "cdcc509c-f5df-42c0-b02c-4d97965b551f",
   "metadata": {},
   "outputs": [],
   "source": []
  },
  {
   "cell_type": "code",
   "execution_count": null,
   "id": "bb370ef6-0b30-4053-948c-8c917fca6c70",
   "metadata": {},
   "outputs": [],
   "source": []
  },
  {
   "cell_type": "code",
   "execution_count": null,
   "id": "5581d79b-abf9-4cb1-a2bb-1f93f905dd7f",
   "metadata": {},
   "outputs": [],
   "source": []
  }
 ],
 "metadata": {
  "kernelspec": {
   "display_name": "Python [conda env:base] *",
   "language": "python",
   "name": "conda-base-py"
  },
  "language_info": {
   "codemirror_mode": {
    "name": "ipython",
    "version": 3
   },
   "file_extension": ".py",
   "mimetype": "text/x-python",
   "name": "python",
   "nbconvert_exporter": "python",
   "pygments_lexer": "ipython3",
   "version": "3.13.5"
  }
 },
 "nbformat": 4,
 "nbformat_minor": 5
}
