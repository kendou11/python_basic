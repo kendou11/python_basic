{
 "cells": [
  {
   "cell_type": "markdown",
   "id": "bef184cf-1c85-4146-aaac-d9731801d77d",
   "metadata": {},
   "source": [
    "# 1.불 자료형은 어떻게 사용할까?"
   ]
  },
  {
   "cell_type": "code",
   "execution_count": 4,
   "id": "ba05965a-1c51-42cd-a73b-67bd9f7c239b",
   "metadata": {},
   "outputs": [
    {
     "name": "stdout",
     "output_type": "stream",
     "text": [
      "True False\n"
     ]
    }
   ],
   "source": [
    "# 변수에 불 자료형 지정\n",
    "a = True\n",
    "b = False\n",
    "print(a, b)"
   ]
  },
  {
   "cell_type": "code",
   "execution_count": 5,
   "id": "20cf108a-6669-4b83-8f55-3a14032545b6",
   "metadata": {},
   "outputs": [
    {
     "data": {
      "text/plain": [
       "True"
      ]
     },
     "execution_count": 5,
     "metadata": {},
     "output_type": "execute_result"
    }
   ],
   "source": [
    "20 > 10"
   ]
  },
  {
   "cell_type": "code",
   "execution_count": 6,
   "id": "47ad5620-4b97-4e2c-bf53-dea4e32132a8",
   "metadata": {},
   "outputs": [
    {
     "data": {
      "text/plain": [
       "False"
      ]
     },
     "execution_count": 6,
     "metadata": {},
     "output_type": "execute_result"
    }
   ],
   "source": [
    "1==2"
   ]
  },
  {
   "cell_type": "code",
   "execution_count": 7,
   "id": "a0564343-6d1a-4b80-9bfc-169bc83d631f",
   "metadata": {},
   "outputs": [
    {
     "data": {
      "text/plain": [
       "True"
      ]
     },
     "execution_count": 7,
     "metadata": {},
     "output_type": "execute_result"
    }
   ],
   "source": [
    "1==1"
   ]
  },
  {
   "cell_type": "markdown",
   "id": "f93171de-a9a7-477c-a4d0-8b7939dfa486",
   "metadata": {},
   "source": [
    "### 자료형의 참과 거짓이 어떻게 쓰이는지 알아보자"
   ]
  },
  {
   "cell_type": "code",
   "execution_count": 9,
   "id": "697a191a-79f9-449a-98a2-6e173c07ce4c",
   "metadata": {},
   "outputs": [
    {
     "name": "stdout",
     "output_type": "stream",
     "text": [
      "4\n",
      "3\n",
      "2\n",
      "1\n"
     ]
    }
   ],
   "source": [
    "a = [1,2,3,4]\n",
    "while a:\n",
    "    print(a.pop())"
   ]
  },
  {
   "cell_type": "code",
   "execution_count": 10,
   "id": "d179ea89-f073-4372-8d64-5e02ccade4a5",
   "metadata": {},
   "outputs": [
    {
     "data": {
      "text/plain": [
       "[]"
      ]
     },
     "execution_count": 10,
     "metadata": {},
     "output_type": "execute_result"
    }
   ],
   "source": [
    "a"
   ]
  },
  {
   "cell_type": "code",
   "execution_count": 11,
   "id": "89744acc-afe8-43a7-9b55-23be285fb5b2",
   "metadata": {},
   "outputs": [
    {
     "data": {
      "text/plain": [
       "False"
      ]
     },
     "execution_count": 11,
     "metadata": {},
     "output_type": "execute_result"
    }
   ],
   "source": [
    "bool(a)"
   ]
  },
  {
   "cell_type": "code",
   "execution_count": 12,
   "id": "68bec3e9-a1df-457c-9eaa-8e7c0787e3ab",
   "metadata": {},
   "outputs": [
    {
     "name": "stdout",
     "output_type": "stream",
     "text": [
      "거짓\n"
     ]
    }
   ],
   "source": [
    "if []:\n",
    "    print('참')\n",
    "else:\n",
    "    print('거짓')"
   ]
  },
  {
   "cell_type": "code",
   "execution_count": 13,
   "id": "d73e1d39-48f0-4412-8ded-ebdab434cf46",
   "metadata": {},
   "outputs": [
    {
     "name": "stdout",
     "output_type": "stream",
     "text": [
      "참\n"
     ]
    }
   ],
   "source": [
    "if [1,2,3]:\n",
    "    print('참')\n",
    "else:\n",
    "    print('거짓')"
   ]
  },
  {
   "cell_type": "markdown",
   "id": "695ca7d0-be30-45cb-b99f-f5c1f226047b",
   "metadata": {},
   "source": [
    "## 3. 불 연산 - bool()"
   ]
  },
  {
   "cell_type": "code",
   "execution_count": 15,
   "id": "1befaba8-4dec-4f94-9bc7-97ec797cb715",
   "metadata": {},
   "outputs": [
    {
     "name": "stdout",
     "output_type": "stream",
     "text": [
      "False\n",
      "True\n",
      "False\n",
      "True\n"
     ]
    }
   ],
   "source": [
    "# bool() True인지 False인지 식별해주는 함수\n",
    "\n",
    "print(bool('')) # False\n",
    "print(bool('aaa')) # True\n",
    "print(bool([])) # False\n",
    "print(bool([1,2])) # True"
   ]
  },
  {
   "cell_type": "code",
   "execution_count": null,
   "id": "39f7cd76-ca5f-4934-819e-0ba287f822fb",
   "metadata": {},
   "outputs": [],
   "source": []
  }
 ],
 "metadata": {
  "kernelspec": {
   "display_name": "Python [conda env:base] *",
   "language": "python",
   "name": "conda-base-py"
  },
  "language_info": {
   "codemirror_mode": {
    "name": "ipython",
    "version": 3
   },
   "file_extension": ".py",
   "mimetype": "text/x-python",
   "name": "python",
   "nbconvert_exporter": "python",
   "pygments_lexer": "ipython3",
   "version": "3.13.5"
  }
 },
 "nbformat": 4,
 "nbformat_minor": 5
}
