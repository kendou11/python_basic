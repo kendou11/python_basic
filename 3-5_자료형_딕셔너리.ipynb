{
 "cells": [
  {
   "cell_type": "markdown",
   "id": "ff1ebb4e-7872-4d4e-aa78-076c8eeca5ef",
   "metadata": {},
   "source": [
    "## 2. 딕셔너리는 어떻게 만들까?"
   ]
  },
  {
   "cell_type": "code",
   "execution_count": 1,
   "id": "1fae21f0-e32a-43cd-ab0b-ebb6db9383f3",
   "metadata": {},
   "outputs": [
    {
     "data": {
      "text/plain": [
       "dict"
      ]
     },
     "execution_count": 1,
     "metadata": {},
     "output_type": "execute_result"
    }
   ],
   "source": [
    "dic = {\"name\":\"lkh\", \"phone\":\"010-1234-5678\", 'birth':\"0102\"}\n",
    "type(dic)"
   ]
  },
  {
   "cell_type": "code",
   "execution_count": 2,
   "id": "775c3730-9aa1-4f8d-81a5-79e3befb8606",
   "metadata": {},
   "outputs": [
    {
     "data": {
      "text/plain": [
       "'lkh'"
      ]
     },
     "execution_count": 2,
     "metadata": {},
     "output_type": "execute_result"
    }
   ],
   "source": [
    "dic[\"name\"]"
   ]
  },
  {
   "cell_type": "code",
   "execution_count": 3,
   "id": "ee59bee7-5ab2-45fb-a27d-4353d3c9e577",
   "metadata": {},
   "outputs": [
    {
     "data": {
      "text/plain": [
       "'010-1234-5678'"
      ]
     },
     "execution_count": 3,
     "metadata": {},
     "output_type": "execute_result"
    }
   ],
   "source": [
    "dic[\"phone\"]"
   ]
  },
  {
   "cell_type": "code",
   "execution_count": 4,
   "id": "45a5ef62-7c74-4497-ae11-a7fcc7a7f0f3",
   "metadata": {},
   "outputs": [
    {
     "data": {
      "text/plain": [
       "'0102'"
      ]
     },
     "execution_count": 4,
     "metadata": {},
     "output_type": "execute_result"
    }
   ],
   "source": [
    "dic[\"birth\"]"
   ]
  },
  {
   "cell_type": "code",
   "execution_count": 6,
   "id": "65b70ca6-3471-4b18-9870-a1341f432938",
   "metadata": {},
   "outputs": [
    {
     "data": {
      "text/plain": [
       "{'a': [1, 2, 3]}"
      ]
     },
     "execution_count": 6,
     "metadata": {},
     "output_type": "execute_result"
    }
   ],
   "source": [
    "a = {'a': [1,2,3]}\n",
    "a"
   ]
  },
  {
   "cell_type": "markdown",
   "id": "aceccfce-ab21-4d17-9b38-ff05a630f336",
   "metadata": {},
   "source": [
    "## 3. 딕셔너리 쌍 추가, 삭제하기"
   ]
  },
  {
   "cell_type": "code",
   "execution_count": 7,
   "id": "5739c0ad-093d-487b-8322-1cc6ba9e8ae7",
   "metadata": {},
   "outputs": [
    {
     "data": {
      "text/plain": [
       "{1: 'a', 2: 'b'}"
      ]
     },
     "execution_count": 7,
     "metadata": {},
     "output_type": "execute_result"
    }
   ],
   "source": [
    "a = {1: 'a'}\n",
    "a[2] = 'b'\n",
    "a"
   ]
  },
  {
   "cell_type": "code",
   "execution_count": 9,
   "id": "f8043ab2-79ac-4a4a-852a-fd04b7722b6c",
   "metadata": {},
   "outputs": [
    {
     "data": {
      "text/plain": [
       "{1: 'a', 2: 'b', 'name': 'lkh'}"
      ]
     },
     "execution_count": 9,
     "metadata": {},
     "output_type": "execute_result"
    }
   ],
   "source": [
    "a['name']='lkh'\n",
    "a"
   ]
  },
  {
   "cell_type": "code",
   "execution_count": 10,
   "id": "76745855-a833-4241-841b-56e4bf7dc8b0",
   "metadata": {},
   "outputs": [
    {
     "data": {
      "text/plain": [
       "{1: 'a', 2: 'b', 'name': 'lkh', 3: [1, 2, 3]}"
      ]
     },
     "execution_count": 10,
     "metadata": {},
     "output_type": "execute_result"
    }
   ],
   "source": [
    "a[3] = [1,2,3]\n",
    "a"
   ]
  },
  {
   "cell_type": "code",
   "execution_count": 11,
   "id": "b7dfa0a5-65a5-437c-9950-d1646aa3b29a",
   "metadata": {},
   "outputs": [
    {
     "data": {
      "text/plain": [
       "{1: 'a',\n",
       " 2: 'b',\n",
       " 'name': 'lkh',\n",
       " 3: [1, 2, 3],\n",
       " 'hobby': {'a': [1, 2, 3], 'b': 'sport'}}"
      ]
     },
     "execution_count": 11,
     "metadata": {},
     "output_type": "execute_result"
    }
   ],
   "source": [
    "a['hobby']={'a':[1,2,3], 'b': 'sport'}\n",
    "a"
   ]
  },
  {
   "cell_type": "code",
   "execution_count": 12,
   "id": "423b13b4-7845-4878-9402-79abb0ee2917",
   "metadata": {},
   "outputs": [
    {
     "data": {
      "text/plain": [
       "{1: 'a', 2: 'b', 'name': 'lkh', 3: [1, 2, 3]}"
      ]
     },
     "execution_count": 12,
     "metadata": {},
     "output_type": "execute_result"
    }
   ],
   "source": [
    "del a['hobby']\n",
    "a"
   ]
  },
  {
   "cell_type": "markdown",
   "id": "59cd1a22-f7c7-414a-b861-6a27b3704143",
   "metadata": {},
   "source": [
    "## 5. 딕셔너리 관련 함수"
   ]
  },
  {
   "cell_type": "code",
   "execution_count": 22,
   "id": "63cdfba2-1886-4bcd-9d39-6aeb8dcf8f5d",
   "metadata": {},
   "outputs": [
    {
     "data": {
      "text/plain": [
       "dict_keys(['name', 'phone', 'birth'])"
      ]
     },
     "execution_count": 22,
     "metadata": {},
     "output_type": "execute_result"
    }
   ],
   "source": [
    "# key() : key 리스트 만들기\n",
    "\n",
    "dic = {\"name\":\"lkh\", \"phone\":\"010-1234-5678\", 'birth':\"0102\"}\n",
    "dic.keys()"
   ]
  },
  {
   "cell_type": "code",
   "execution_count": 24,
   "id": "ea147d63-9f99-4def-a22b-3a11f72ce3ee",
   "metadata": {},
   "outputs": [
    {
     "data": {
      "text/plain": [
       "dict_values(['lkh', '010-1234-5678', '0102'])"
      ]
     },
     "execution_count": 24,
     "metadata": {},
     "output_type": "execute_result"
    }
   ],
   "source": [
    "# values() : value 리스트 만들기\n",
    "\n",
    "dic.values()"
   ]
  },
  {
   "cell_type": "code",
   "execution_count": 25,
   "id": "cb585680-6de8-4803-8fed-d8e85d287513",
   "metadata": {},
   "outputs": [
    {
     "name": "stdout",
     "output_type": "stream",
     "text": [
      "name\n",
      "phone\n",
      "birth\n"
     ]
    }
   ],
   "source": [
    "# for 반복해서 보여줌\n",
    "# for k in dic.key(): 콜론을 써야 아래 프린트 처럼 들여쓰기가됨\n",
    "\n",
    "for k in dic.keys():\n",
    "    print(k)"
   ]
  },
  {
   "cell_type": "code",
   "execution_count": 26,
   "id": "9bcc0664-1de2-4fcf-a09c-4c6dcf090437",
   "metadata": {},
   "outputs": [
    {
     "data": {
      "text/plain": [
       "dict_items([('name', 'lkh'), ('phone', '010-1234-5678'), ('birth', '0102')])"
      ]
     },
     "execution_count": 26,
     "metadata": {},
     "output_type": "execute_result"
    }
   ],
   "source": [
    "# items() key, value 쌍 얻기\n",
    "dic.items()"
   ]
  },
  {
   "cell_type": "code",
   "execution_count": 42,
   "id": "9ebf9cbe-2d17-4b22-a108-529c30eb6005",
   "metadata": {},
   "outputs": [
    {
     "data": {
      "text/plain": [
       "{'lkh': 100, 'ljh': 200}"
      ]
     },
     "execution_count": 42,
     "metadata": {},
     "output_type": "execute_result"
    }
   ],
   "source": [
    "grade = {'lkh': 100, 'ljh':200}\n",
    "grade"
   ]
  },
  {
   "cell_type": "code",
   "execution_count": 43,
   "id": "39945f2a-d1b1-46c6-907f-5f0937715353",
   "metadata": {},
   "outputs": [
    {
     "name": "stdout",
     "output_type": "stream",
     "text": [
      "{'name': '화성시', 'age': '10', 'city': '기산동'}\n"
     ]
    }
   ],
   "source": [
    "hwasung_info =dict(name='화성시', age='10', city='기산동')\n",
    "print(hwasung_info)"
   ]
  },
  {
   "cell_type": "code",
   "execution_count": 27,
   "id": "7fa449d0-981e-4b1c-a56d-d52a5cbfd832",
   "metadata": {},
   "outputs": [
    {
     "data": {
      "text/plain": [
       "{'name': 'lkh', 'phone': '010-1234-5678', 'birth': '0102'}"
      ]
     },
     "execution_count": 27,
     "metadata": {},
     "output_type": "execute_result"
    }
   ],
   "source": [
    "dic"
   ]
  },
  {
   "cell_type": "code",
   "execution_count": 28,
   "id": "a09a9897-ef22-4a40-b3ac-79022ddcbaba",
   "metadata": {},
   "outputs": [
    {
     "ename": "SyntaxError",
     "evalue": "f-string: expecting '}' (1584205446.py, line 1)",
     "output_type": "error",
     "traceback": [
      "\u001b[1;36m  Cell \u001b[1;32mIn[28], line 1\u001b[1;36m\u001b[0m\n\u001b[1;33m    print(f\"내 전화번호는 {dic['phone']\")}입니다)\u001b[0m\n\u001b[1;37m                                 ^\u001b[0m\n\u001b[1;31mSyntaxError\u001b[0m\u001b[1;31m:\u001b[0m f-string: expecting '}'\n"
     ]
    }
   ],
   "source": [
    "print(f\"내 전화번호는 {dic['phone']\")}입니다)\n"
   ]
  },
  {
   "cell_type": "code",
   "execution_count": 29,
   "id": "775b2afb-f002-4d79-93f4-ebdcd4bd7c2f",
   "metadata": {},
   "outputs": [
    {
     "data": {
      "text/plain": [
       "'0102'"
      ]
     },
     "execution_count": 29,
     "metadata": {},
     "output_type": "execute_result"
    }
   ],
   "source": [
    "dic.get('birth')"
   ]
  },
  {
   "cell_type": "code",
   "execution_count": 30,
   "id": "834c8f66-4aff-46ed-a61e-21cb2252132a",
   "metadata": {},
   "outputs": [
    {
     "data": {
      "text/plain": [
       "'010-1234-5678'"
      ]
     },
     "execution_count": 30,
     "metadata": {},
     "output_type": "execute_result"
    }
   ],
   "source": [
    "dic.get('phone')"
   ]
  },
  {
   "cell_type": "code",
   "execution_count": 31,
   "id": "215f4c5c-7972-4a61-bc1e-e2db9418d8ed",
   "metadata": {},
   "outputs": [
    {
     "name": "stdout",
     "output_type": "stream",
     "text": [
      "None\n"
     ]
    }
   ],
   "source": [
    "print(dic.get('age'))"
   ]
  },
  {
   "cell_type": "code",
   "execution_count": 33,
   "id": "8bb229e9-4e3e-4da4-977a-602a39e82e17",
   "metadata": {},
   "outputs": [
    {
     "ename": "KeyError",
     "evalue": "'age'",
     "output_type": "error",
     "traceback": [
      "\u001b[1;31m---------------------------------------------------------------------------\u001b[0m",
      "\u001b[1;31mKeyError\u001b[0m                                  Traceback (most recent call last)",
      "Cell \u001b[1;32mIn[33], line 1\u001b[0m\n\u001b[1;32m----> 1\u001b[0m \u001b[38;5;28mprint\u001b[39m(a[\u001b[38;5;124m'\u001b[39m\u001b[38;5;124mage\u001b[39m\u001b[38;5;124m'\u001b[39m])\n",
      "\u001b[1;31mKeyError\u001b[0m: 'age'"
     ]
    }
   ],
   "source": [
    "print(a['age'])"
   ]
  },
  {
   "cell_type": "code",
   "execution_count": 34,
   "id": "593d82c6-69e4-4b59-96dc-600e091a3685",
   "metadata": {},
   "outputs": [
    {
     "data": {
      "text/plain": [
       "25"
      ]
     },
     "execution_count": 34,
     "metadata": {},
     "output_type": "execute_result"
    }
   ],
   "source": [
    "dic.get('age', 25)"
   ]
  },
  {
   "cell_type": "code",
   "execution_count": 36,
   "id": "d06d74c1-7d5b-4702-9b50-184239e6d8e1",
   "metadata": {},
   "outputs": [
    {
     "data": {
      "text/plain": [
       "{'name': 'lkh', 'phone': '010-1234-5678', 'birth': '0102', 'age': 28}"
      ]
     },
     "execution_count": 36,
     "metadata": {},
     "output_type": "execute_result"
    }
   ],
   "source": [
    "dic['age'] = 28\n",
    "dic"
   ]
  },
  {
   "cell_type": "code",
   "execution_count": 37,
   "id": "a2b86b24-8f74-4965-81e3-eeda4b6ba6cc",
   "metadata": {},
   "outputs": [
    {
     "data": {
      "text/plain": [
       "28"
      ]
     },
     "execution_count": 37,
     "metadata": {},
     "output_type": "execute_result"
    }
   ],
   "source": [
    "dic.get('age', 25)"
   ]
  },
  {
   "cell_type": "code",
   "execution_count": 38,
   "id": "51216655-3405-46ba-9c04-76b387783fba",
   "metadata": {},
   "outputs": [
    {
     "data": {
      "text/plain": [
       "{'name': 'lkh', 'phone': '010-1234-5678', 'birth': '0102', 'age': 28}"
      ]
     },
     "execution_count": 38,
     "metadata": {},
     "output_type": "execute_result"
    }
   ],
   "source": [
    "dic"
   ]
  },
  {
   "cell_type": "code",
   "execution_count": 39,
   "id": "7c276668-fb9c-44d5-99d6-16ba98ccd6a0",
   "metadata": {},
   "outputs": [
    {
     "data": {
      "text/plain": [
       "True"
      ]
     },
     "execution_count": 39,
     "metadata": {},
     "output_type": "execute_result"
    }
   ],
   "source": [
    "# in key가 딕셔너리에 존재하는지 여부를 확인\n",
    "\n",
    "'name' in dic"
   ]
  },
  {
   "cell_type": "code",
   "execution_count": 40,
   "id": "42186cba-c2a7-4fdd-af76-191019a4dd32",
   "metadata": {},
   "outputs": [
    {
     "data": {
      "text/plain": [
       "False"
      ]
     },
     "execution_count": 40,
     "metadata": {},
     "output_type": "execute_result"
    }
   ],
   "source": [
    "'email' in dic"
   ]
  },
  {
   "cell_type": "code",
   "execution_count": null,
   "id": "c747d36c-4db4-4589-822d-14506adc1474",
   "metadata": {},
   "outputs": [],
   "source": []
  }
 ],
 "metadata": {
  "kernelspec": {
   "display_name": "Python [conda env:base] *",
   "language": "python",
   "name": "conda-base-py"
  },
  "language_info": {
   "codemirror_mode": {
    "name": "ipython",
    "version": 3
   },
   "file_extension": ".py",
   "mimetype": "text/x-python",
   "name": "python",
   "nbconvert_exporter": "python",
   "pygments_lexer": "ipython3",
   "version": "3.13.5"
  }
 },
 "nbformat": 4,
 "nbformat_minor": 5
}
