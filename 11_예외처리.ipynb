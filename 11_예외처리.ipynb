{
 "cells": [
  {
   "cell_type": "markdown",
   "id": "7c419571-ef6e-4a8b-a443-a8cbe4ab5a08",
   "metadata": {},
   "source": [
    "### 자주 발생하는 예외 예"
   ]
  },
  {
   "cell_type": "code",
   "execution_count": 2,
   "id": "d2ff05ea-a3a6-47c6-9f41-a3ed70c81437",
   "metadata": {},
   "outputs": [],
   "source": [
    "f = open(\"foo2.txt\", \"r\")"
   ]
  },
  {
   "cell_type": "code",
   "execution_count": 3,
   "id": "b82f0d02-5c86-465a-b383-0e4f7b24b881",
   "metadata": {},
   "outputs": [
    {
     "ename": "ZeroDivisionError",
     "evalue": "division by zero",
     "output_type": "error",
     "traceback": [
      "\u001b[1;31m---------------------------------------------------------------------------\u001b[0m",
      "\u001b[1;31mZeroDivisionError\u001b[0m                         Traceback (most recent call last)",
      "Cell \u001b[1;32mIn[3], line 1\u001b[0m\n\u001b[1;32m----> 1\u001b[0m \u001b[38;5;241m4\u001b[39m\u001b[38;5;241m/\u001b[39m\u001b[38;5;241m0\u001b[39m\n",
      "\u001b[1;31mZeroDivisionError\u001b[0m: division by zero"
     ]
    }
   ],
   "source": [
    "4/0"
   ]
  },
  {
   "cell_type": "code",
   "execution_count": 4,
   "id": "46c7b18f-b1c7-42e1-8c79-07d4fe291123",
   "metadata": {},
   "outputs": [
    {
     "ename": "IndexError",
     "evalue": "list index out of range",
     "output_type": "error",
     "traceback": [
      "\u001b[1;31m---------------------------------------------------------------------------\u001b[0m",
      "\u001b[1;31mIndexError\u001b[0m                                Traceback (most recent call last)",
      "Cell \u001b[1;32mIn[4], line 2\u001b[0m\n\u001b[0;32m      1\u001b[0m a \u001b[38;5;241m=\u001b[39m [\u001b[38;5;241m1\u001b[39m,\u001b[38;5;241m2\u001b[39m,\u001b[38;5;241m3\u001b[39m]\n\u001b[1;32m----> 2\u001b[0m a[\u001b[38;5;241m3\u001b[39m]\n",
      "\u001b[1;31mIndexError\u001b[0m: list index out of range"
     ]
    }
   ],
   "source": [
    "a = [1,2,3]\n",
    "a[3]"
   ]
  },
  {
   "cell_type": "markdown",
   "id": "ef13131c-9851-41d7-82fc-c2d32331629f",
   "metadata": {},
   "source": [
    "## 1. 예외 처리 기법"
   ]
  },
  {
   "cell_type": "code",
   "execution_count": 6,
   "id": "438206bd-74bc-4503-810f-bbde97fc3a3b",
   "metadata": {},
   "outputs": [
    {
     "name": "stdout",
     "output_type": "stream",
     "text": [
      "division by zero\n"
     ]
    }
   ],
   "source": [
    "try :\n",
    "    4/0\n",
    "except ZeroDivisionError as e:\n",
    "    print(e)"
   ]
  },
  {
   "cell_type": "code",
   "execution_count": 7,
   "id": "54b03252-d1d1-41bc-95d7-58f5aa155e9c",
   "metadata": {},
   "outputs": [
    {
     "name": "stdout",
     "output_type": "stream",
     "text": [
      "2.0\n"
     ]
    }
   ],
   "source": [
    "try :\n",
    "    div = 4/2\n",
    "except ZeroDivisionError as e:\n",
    "    print(e)\n",
    "\n",
    "print(div)"
   ]
  },
  {
   "cell_type": "code",
   "execution_count": 10,
   "id": "399d279e-1ef1-4318-b6b5-364a87632a9e",
   "metadata": {},
   "outputs": [],
   "source": [
    "# try - finally\n",
    "try:\n",
    "    f = open('foo.txt', 'w')\n",
    "finally:\n",
    "    f.close() # 오류 상관없이 무조건 실행\n",
    "    "
   ]
  },
  {
   "cell_type": "code",
   "execution_count": 12,
   "id": "b97fe9ba-86bd-4953-b1ae-d4cae450907f",
   "metadata": {},
   "outputs": [
    {
     "name": "stdout",
     "output_type": "stream",
     "text": [
      "인덱싱 할 수 없습니다.\n",
      "[1, 2]\n"
     ]
    }
   ],
   "source": [
    "try:\n",
    "    a = [1,2]\n",
    "    print(a[3]) # index Error\n",
    "    4/0 # Zero DivisionError\n",
    "except ZeroDivisionError:\n",
    "    print('0으로 나눌 수 없습니다.')\n",
    "except IndexError:\n",
    "    print('인덱싱 할 수 없습니다.')\n",
    "finally:\n",
    "    print(a)"
   ]
  },
  {
   "cell_type": "code",
   "execution_count": 13,
   "id": "19970f77-024e-48ac-a97d-8872d51d1bca",
   "metadata": {},
   "outputs": [
    {
     "name": "stdout",
     "output_type": "stream",
     "text": [
      "list index out of range\n"
     ]
    }
   ],
   "source": [
    "try:\n",
    "    a = [1,2]\n",
    "    print(a[3])\n",
    "    4/0\n",
    "except ZeroDivisionError as e:\n",
    "    print(e)\n",
    "except IndexError as e:\n",
    "    print(e)"
   ]
  },
  {
   "cell_type": "code",
   "execution_count": 14,
   "id": "10f51b0c-af7e-461c-9563-5c975fb1956a",
   "metadata": {},
   "outputs": [
    {
     "name": "stdout",
     "output_type": "stream",
     "text": [
      "division by zero\n"
     ]
    }
   ],
   "source": [
    "try:\n",
    "    a = [1,2]\n",
    "    4/0\n",
    "    print(a[3])\n",
    "except (ZeroDivisionError, IndexError) as e:\n",
    "    print(e)"
   ]
  },
  {
   "cell_type": "code",
   "execution_count": 16,
   "id": "ffc4338a-6609-424f-9b33-1918d4f582ed",
   "metadata": {},
   "outputs": [
    {
     "name": "stdin",
     "output_type": "stream",
     "text": [
      "나이를 입력하세요 : 19\n"
     ]
    },
    {
     "name": "stdout",
     "output_type": "stream",
     "text": [
      "성년\n"
     ]
    }
   ],
   "source": [
    "try:\n",
    "    age = int(input('나이를 입력하세요 :'))\n",
    "except:\n",
    "    print('입력이 정확하지 않습니다.')\n",
    "else:\n",
    "    if age <= 18:\n",
    "        print('미성년')\n",
    "    else:\n",
    "        print('성년')"
   ]
  },
  {
   "cell_type": "markdown",
   "id": "1c6fcd3c-1d2e-43ae-a72f-4061f4943a2e",
   "metadata": {},
   "source": [
    "## 2. 예외 회피하기"
   ]
  },
  {
   "cell_type": "code",
   "execution_count": 18,
   "id": "3239ba7a-d3d6-4e30-9607-1a68372af7ee",
   "metadata": {},
   "outputs": [],
   "source": [
    "try:\n",
    "    4/0\n",
    "except ZeroDivisionError:\n",
    "    pass\n",
    "    "
   ]
  },
  {
   "cell_type": "markdown",
   "id": "c9dccbc3-547c-400b-84e8-eccf51fdaa86",
   "metadata": {},
   "source": [
    "## 3. 예외 발생"
   ]
  },
  {
   "cell_type": "code",
   "execution_count": 20,
   "id": "e45f8309-8e3f-4c8e-9bd2-a3db9e85e8b3",
   "metadata": {},
   "outputs": [],
   "source": [
    "class Bird:\n",
    "    def fly(self):\n",
    "        raise NotImplementedError"
   ]
  },
  {
   "cell_type": "code",
   "execution_count": 22,
   "id": "00afae95-603b-4bc8-97e8-bb62a2b469ad",
   "metadata": {},
   "outputs": [
    {
     "ename": "NotImplementedError",
     "evalue": "",
     "output_type": "error",
     "traceback": [
      "\u001b[1;31m---------------------------------------------------------------------------\u001b[0m",
      "\u001b[1;31mNotImplementedError\u001b[0m                       Traceback (most recent call last)",
      "Cell \u001b[1;32mIn[22], line 5\u001b[0m\n\u001b[0;32m      2\u001b[0m     \u001b[38;5;28;01mpass\u001b[39;00m\n\u001b[0;32m      4\u001b[0m eagle \u001b[38;5;241m=\u001b[39m Eagle() \u001b[38;5;66;03m# 인스턴스\u001b[39;00m\n\u001b[1;32m----> 5\u001b[0m eagle\u001b[38;5;241m.\u001b[39mfly()\n",
      "Cell \u001b[1;32mIn[20], line 3\u001b[0m, in \u001b[0;36mBird.fly\u001b[1;34m(self)\u001b[0m\n\u001b[0;32m      2\u001b[0m \u001b[38;5;28;01mdef\u001b[39;00m\u001b[38;5;250m \u001b[39m\u001b[38;5;21mfly\u001b[39m(\u001b[38;5;28mself\u001b[39m):\n\u001b[1;32m----> 3\u001b[0m     \u001b[38;5;28;01mraise\u001b[39;00m \u001b[38;5;167;01mNotImplementedError\u001b[39;00m\n",
      "\u001b[1;31mNotImplementedError\u001b[0m: "
     ]
    }
   ],
   "source": [
    "class Eagle(Bird):\n",
    "    pass\n",
    "\n",
    "eagle = Eagle() # 인스턴스\n",
    "eagle.fly()"
   ]
  },
  {
   "cell_type": "code",
   "execution_count": 23,
   "id": "95c4d6d7-c525-4110-8a6c-7052aa30d78c",
   "metadata": {},
   "outputs": [
    {
     "name": "stdout",
     "output_type": "stream",
     "text": [
      "very fast\n"
     ]
    }
   ],
   "source": [
    "class Eagle(Bird):\n",
    "    def fly(self): # 메서드 오버라이딩\n",
    "        print(\"very fast\")\n",
    "\n",
    "eagle = Eagle() #인스턴스 생성\n",
    "eagle.fly()"
   ]
  },
  {
   "cell_type": "markdown",
   "id": "51587743-0081-411b-91dd-d24fa351aadd",
   "metadata": {},
   "source": [
    "# 4. 예외 만들기"
   ]
  },
  {
   "cell_type": "code",
   "execution_count": 24,
   "id": "e3d335bf-11c1-432d-97ad-fb076ab2acbc",
   "metadata": {},
   "outputs": [],
   "source": [
    "# 예외 클래스 생서\n",
    "class MyError(Exception):\n",
    "    pass\n"
   ]
  },
  {
   "cell_type": "code",
   "execution_count": 25,
   "id": "3ecc634d-4847-457f-aaf5-d777797e9054",
   "metadata": {},
   "outputs": [],
   "source": [
    "def say_nick(nick):\n",
    "    if nick == '바보':\n",
    "        raise MyError() # 강제로 예외 발생\n",
    "    print(nick)"
   ]
  },
  {
   "cell_type": "code",
   "execution_count": 26,
   "id": "5facf164-e5f7-41e4-94b2-60f3f3601fe7",
   "metadata": {},
   "outputs": [
    {
     "name": "stdout",
     "output_type": "stream",
     "text": [
      "천사\n"
     ]
    }
   ],
   "source": [
    "say_nick('천사')"
   ]
  },
  {
   "cell_type": "code",
   "execution_count": 27,
   "id": "1e63c66f-7370-4473-b4b0-4f16e06b7bb0",
   "metadata": {},
   "outputs": [
    {
     "ename": "MyError",
     "evalue": "",
     "output_type": "error",
     "traceback": [
      "\u001b[1;31m---------------------------------------------------------------------------\u001b[0m",
      "\u001b[1;31mMyError\u001b[0m                                   Traceback (most recent call last)",
      "Cell \u001b[1;32mIn[27], line 1\u001b[0m\n\u001b[1;32m----> 1\u001b[0m say_nick(\u001b[38;5;124m'\u001b[39m\u001b[38;5;124m바보\u001b[39m\u001b[38;5;124m'\u001b[39m)\n",
      "Cell \u001b[1;32mIn[25], line 3\u001b[0m, in \u001b[0;36msay_nick\u001b[1;34m(nick)\u001b[0m\n\u001b[0;32m      1\u001b[0m \u001b[38;5;28;01mdef\u001b[39;00m\u001b[38;5;250m \u001b[39m\u001b[38;5;21msay_nick\u001b[39m(nick):\n\u001b[0;32m      2\u001b[0m     \u001b[38;5;28;01mif\u001b[39;00m nick \u001b[38;5;241m==\u001b[39m \u001b[38;5;124m'\u001b[39m\u001b[38;5;124m바보\u001b[39m\u001b[38;5;124m'\u001b[39m:\n\u001b[1;32m----> 3\u001b[0m         \u001b[38;5;28;01mraise\u001b[39;00m MyError() \u001b[38;5;66;03m# 강제로 예외 발생\u001b[39;00m\n\u001b[0;32m      4\u001b[0m     \u001b[38;5;28mprint\u001b[39m(nick)\n",
      "\u001b[1;31mMyError\u001b[0m: "
     ]
    }
   ],
   "source": [
    "say_nick('바보')"
   ]
  },
  {
   "cell_type": "code",
   "execution_count": 28,
   "id": "d195883b-daee-426b-9d05-ad26dd6e70d8",
   "metadata": {},
   "outputs": [
    {
     "name": "stdout",
     "output_type": "stream",
     "text": [
      "천사\n",
      "허용되지 않는 별명입니다.\n"
     ]
    }
   ],
   "source": [
    "# MyError 예외 처리\n",
    "try:\n",
    "    say_nick('천사')\n",
    "    say_nick('바보')\n",
    "\n",
    "except MyError:\n",
    "    print('허용되지 않는 별명입니다.')"
   ]
  },
  {
   "cell_type": "code",
   "execution_count": 30,
   "id": "d429895f-9ab0-40a9-b241-1196c185f71f",
   "metadata": {},
   "outputs": [
    {
     "name": "stdout",
     "output_type": "stream",
     "text": [
      "천사\n",
      "\n"
     ]
    }
   ],
   "source": [
    "# 오류 메시지 출력\n",
    "try:\n",
    "    say_nick('천사')\n",
    "    say_nick('바보')\n",
    "\n",
    "except Exception as e:\n",
    "    print(e) # 오류 메시지 안보임"
   ]
  },
  {
   "cell_type": "code",
   "execution_count": 31,
   "id": "29d552da-b889-4a69-8b56-ab034ba732b6",
   "metadata": {},
   "outputs": [],
   "source": [
    "# 오류 메시지 출력되게 => __str__\n",
    "class MyError(Exception):\n",
    "    def __str__(self):\n",
    "        return \"허용되지 않는 별명입니다.\""
   ]
  },
  {
   "cell_type": "code",
   "execution_count": 32,
   "id": "f76df7e0-8971-4186-823c-3a73b343bd62",
   "metadata": {},
   "outputs": [
    {
     "name": "stdout",
     "output_type": "stream",
     "text": [
      "천사\n",
      "허용되지 않는 별명입니다.\n"
     ]
    }
   ],
   "source": [
    "try:\n",
    "    say_nick('천사')\n",
    "    say_nick('바보')\n",
    "\n",
    "except Exception as e:\n",
    "    print(e) # __srt__ 에 정의한 오류메시지 보임"
   ]
  },
  {
   "cell_type": "code",
   "execution_count": null,
   "id": "cb6cfd8f-f6f4-4e90-83a1-c6d5a9fbe437",
   "metadata": {},
   "outputs": [],
   "source": []
  }
 ],
 "metadata": {
  "kernelspec": {
   "display_name": "Python [conda env:base] *",
   "language": "python",
   "name": "conda-base-py"
  },
  "language_info": {
   "codemirror_mode": {
    "name": "ipython",
    "version": 3
   },
   "file_extension": ".py",
   "mimetype": "text/x-python",
   "name": "python",
   "nbconvert_exporter": "python",
   "pygments_lexer": "ipython3",
   "version": "3.13.5"
  }
 },
 "nbformat": 4,
 "nbformat_minor": 5
}
