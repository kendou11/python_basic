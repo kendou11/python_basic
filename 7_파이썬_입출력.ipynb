{
 "cells": [
  {
   "cell_type": "markdown",
   "id": "9ea48629-5402-4875-a633-1e5a42911187",
   "metadata": {},
   "source": [
    "## 1. 사용자 입출력"
   ]
  },
  {
   "cell_type": "markdown",
   "id": "3e02e871-08ac-4f52-8f3a-86e7512227b1",
   "metadata": {},
   "source": [
    "### 1) 사용자 입력"
   ]
  },
  {
   "cell_type": "code",
   "execution_count": 7,
   "id": "39b4fbe6-17bb-46e4-b0b7-d0d43edbdca2",
   "metadata": {},
   "outputs": [
    {
     "name": "stdin",
     "output_type": "stream",
     "text": [
      " 1\n"
     ]
    },
    {
     "ename": "TypeError",
     "evalue": "'int' object is not callable",
     "output_type": "error",
     "traceback": [
      "\u001b[1;31m---------------------------------------------------------------------------\u001b[0m",
      "\u001b[1;31mTypeError\u001b[0m                                 Traceback (most recent call last)",
      "Cell \u001b[1;32mIn[7], line 2\u001b[0m\n\u001b[0;32m      1\u001b[0m a \u001b[38;5;241m=\u001b[39m \u001b[38;5;28minput\u001b[39m()\n\u001b[1;32m----> 2\u001b[0m \u001b[38;5;28mint\u001b[39m \u001b[38;5;241m=\u001b[39m \u001b[38;5;28mint\u001b[39m()\n\u001b[0;32m      3\u001b[0m \u001b[38;5;28mtype\u001b[39m(a)\n",
      "\u001b[1;31mTypeError\u001b[0m: 'int' object is not callable"
     ]
    }
   ],
   "source": [
    "a = input()"
   ]
  },
  {
   "cell_type": "code",
   "execution_count": 2,
   "id": "237fd209-9a4b-4d59-a61a-16bc7a96741e",
   "metadata": {},
   "outputs": [
    {
     "name": "stdout",
     "output_type": "stream",
     "text": [
      "Life is too short, you need python\n"
     ]
    }
   ],
   "source": [
    "print(a)"
   ]
  },
  {
   "cell_type": "code",
   "execution_count": 3,
   "id": "b1dfc10b-f3a0-411f-b78c-80b23e43a878",
   "metadata": {},
   "outputs": [
    {
     "name": "stdin",
     "output_type": "stream",
     "text": [
      " 1234\n"
     ]
    }
   ],
   "source": [
    "num = input()"
   ]
  },
  {
   "cell_type": "code",
   "execution_count": 4,
   "id": "b449c235-9f56-47e4-b626-582876d407e4",
   "metadata": {},
   "outputs": [
    {
     "name": "stdout",
     "output_type": "stream",
     "text": [
      "1234\n"
     ]
    }
   ],
   "source": [
    "print(num)"
   ]
  },
  {
   "cell_type": "code",
   "execution_count": 5,
   "id": "b8d1ccf5-6bef-4296-aa91-a513387722d5",
   "metadata": {},
   "outputs": [
    {
     "data": {
      "text/plain": [
       "str"
      ]
     },
     "execution_count": 5,
     "metadata": {},
     "output_type": "execute_result"
    }
   ],
   "source": [
    "type(num) # input에 입력한 모든 것은 문자열!"
   ]
  },
  {
   "cell_type": "markdown",
   "id": "6202e4e2-7a1e-4e3a-b8d5-c64c6cd1196b",
   "metadata": {},
   "source": [
    "### 2) print() 자세히 알기"
   ]
  },
  {
   "cell_type": "code",
   "execution_count": null,
   "id": "37e8bd9d-3070-4450-9b4b-e2106da5603d",
   "metadata": {},
   "outputs": [],
   "source": [
    "a = input()"
   ]
  },
  {
   "cell_type": "code",
   "execution_count": null,
   "id": "06b96965-d4ef-4084-aef2-c0ebd4f0ee72",
   "metadata": {},
   "outputs": [],
   "source": [
    "# 문자열과 + 연산자로 출력\n",
    "a = input()\n",
    "print('life', 'is', 'too', 'short')\n",
    "print('life'+'is'+'too'+'short')\n",
    "print('life' 'is' 'too' 'short')"
   ]
  },
  {
   "cell_type": "code",
   "execution_count": null,
   "id": "6ea22c46-4ec6-479c-ac8c-85fa9e94b382",
   "metadata": {},
   "outputs": [],
   "source": [
    "# 문자열 띄어쓰기는 쉼표로\n",
    "print('life', 'is', 'too', 'short')"
   ]
  },
  {
   "cell_type": "code",
   "execution_count": 8,
   "id": "5a5164f8-99f0-4712-b2a8-44ae1c450235",
   "metadata": {},
   "outputs": [
    {
     "name": "stdout",
     "output_type": "stream",
     "text": [
      "0\n",
      "1\n",
      "2\n",
      "3\n",
      "4\n",
      "5\n",
      "6\n",
      "7\n",
      "8\n",
      "9\n"
     ]
    }
   ],
   "source": [
    "for i in range(10):\n",
    "    print(i)"
   ]
  },
  {
   "cell_type": "code",
   "execution_count": 10,
   "id": "8c58de6a-fc2b-45e8-806f-63c85f4728fb",
   "metadata": {},
   "outputs": [
    {
     "name": "stdout",
     "output_type": "stream",
     "text": [
      "0 1 2 3 4 5 6 7 8 9 "
     ]
    }
   ],
   "source": [
    "# 한 줄에 값 출력\n",
    "for i in range(10):\n",
    "    print(i, end=\" \")"
   ]
  },
  {
   "cell_type": "markdown",
   "id": "18c432e4-64e7-4cc5-b0b3-5fe73448b753",
   "metadata": {},
   "source": [
    "## 2. 파일 읽고 쓰기"
   ]
  },
  {
   "cell_type": "markdown",
   "id": "a536f09f-d245-4937-8b59-9a79ea1a9b9d",
   "metadata": {},
   "source": [
    "### 1) 파일 생성하기"
   ]
  },
  {
   "cell_type": "code",
   "execution_count": 25,
   "id": "ed557b3c-e52a-48d2-98ce-88f7c9099adb",
   "metadata": {},
   "outputs": [],
   "source": [
    "f = open('newfile.txt', 'w')"
   ]
  },
  {
   "cell_type": "code",
   "execution_count": 27,
   "id": "e8bea73e-f253-4d60-baab-98df9922af4d",
   "metadata": {},
   "outputs": [],
   "source": [
    "f.close()"
   ]
  },
  {
   "cell_type": "code",
   "execution_count": 29,
   "id": "3bc4932c-df7e-4475-82dd-2ea9ef5b6d12",
   "metadata": {},
   "outputs": [],
   "source": [
    "f = open('C:\\\\Users\\\\WD\\\\python_basic\\\\newfile2.txt','w')"
   ]
  },
  {
   "cell_type": "code",
   "execution_count": 30,
   "id": "2e5975c7-af53-4e9a-b9f0-3a72b4bc8f78",
   "metadata": {},
   "outputs": [],
   "source": [
    "f.close()"
   ]
  },
  {
   "cell_type": "markdown",
   "id": "d12b948c-b6d0-4cf0-af0e-5ad2d856f5e5",
   "metadata": {},
   "source": [
    "### 2) 파일을 쓰기모드로 열어서 내용 쓰기"
   ]
  },
  {
   "cell_type": "code",
   "execution_count": 33,
   "id": "f716d922-1335-46e1-822e-3513b68dca0d",
   "metadata": {},
   "outputs": [],
   "source": [
    "f = open('C:\\\\Users\\\\WD\\\\python_basic\\\\newfile2.txt', 'w')\n",
    "for i in range(1,11):\n",
    "    data = f\"{i}번째 줄입니다.\\n\"\n",
    "    f.write(data)\n",
    "f.close()"
   ]
  },
  {
   "cell_type": "markdown",
   "id": "35e3b536-58f6-4ff4-8cac-d5ad3d769656",
   "metadata": {},
   "source": [
    "### 3) 파일을 읽는 여러가지 방법"
   ]
  },
  {
   "cell_type": "code",
   "execution_count": 34,
   "id": "bf36d339-aee0-4a6c-9b8e-2fb1ca9dd9a6",
   "metadata": {},
   "outputs": [
    {
     "name": "stdout",
     "output_type": "stream",
     "text": [
      "1번째 줄입니다.\n",
      "\n"
     ]
    }
   ],
   "source": [
    "f = open('C:\\\\Users\\\\WD\\\\python_basic\\\\newfile2.txt', 'r')\n",
    "line = f.readline()\n",
    "print(line)\n",
    "f.close()"
   ]
  },
  {
   "cell_type": "code",
   "execution_count": 36,
   "id": "232b0453-9a27-4839-8c9a-c99a3fbdac0e",
   "metadata": {},
   "outputs": [
    {
     "name": "stdout",
     "output_type": "stream",
     "text": [
      "1번째 줄입니다.\n",
      "\n",
      "2번째 줄입니다.\n",
      "\n",
      "3번째 줄입니다.\n",
      "\n",
      "4번째 줄입니다.\n",
      "\n",
      "5번째 줄입니다.\n",
      "\n",
      "6번째 줄입니다.\n",
      "\n",
      "7번째 줄입니다.\n",
      "\n",
      "8번째 줄입니다.\n",
      "\n",
      "9번째 줄입니다.\n",
      "\n",
      "10번째 줄입니다.\n",
      "\n"
     ]
    }
   ],
   "source": [
    "# readline 함수로 여러줄 읽기\n",
    "f = open('C:\\\\Users\\\\WD\\\\python_basic\\\\newfile2.txt', 'r')\n",
    "while True:\n",
    "    line = f.readline()\n",
    "    if not line:\n",
    "        break\n",
    "    print(line)\n",
    "f.close()"
   ]
  },
  {
   "cell_type": "code",
   "execution_count": null,
   "id": "f02bf349-5aec-49a2-8765-c3d2039f970b",
   "metadata": {},
   "outputs": [],
   "source": [
    "# 사용자 입력을 받아서 여러줄 출력하기\n",
    "while True:\n",
    "    data = input()\n",
    "    if not data:\n",
    "        break\n",
    "    print(data)\n",
    "f.close()"
   ]
  },
  {
   "cell_type": "code",
   "execution_count": null,
   "id": "40538012-902d-47e3-9aa1-f9e1ca0927ce",
   "metadata": {},
   "outputs": [],
   "source": [
    "# 여러줄 읽는 readline() 함수 사용하기\n",
    "f = open('C:\\\\Users\\\\WD\\\\python_basic\\\\newfile2.txt'. 'r')\n",
    "lines = f.readline()\n",
    "for line in lines:\n",
    "    print(line)\n",
    "f.close"
   ]
  },
  {
   "cell_type": "code",
   "execution_count": null,
   "id": "1724bf4b-9344-4e06-8881-b2e8b1fd5186",
   "metadata": {},
   "outputs": [],
   "source": [
    "# 줄바꿈(\\n)문자 제거하기\n",
    "f = open('C:\\\\Users\\\\WD\\\\python_basic\\\\newfile2.txt'. 'r')\n",
    "line = f.readlines()\n",
    "for line in lines:\n",
    "    line = line.strip()\n",
    "    print(line)\n",
    "f.close()"
   ]
  },
  {
   "cell_type": "code",
   "execution_count": null,
   "id": "bc11aca5-7e67-4f08-9217-0539de54765c",
   "metadata": {},
   "outputs": [],
   "source": [
    "# read 함수로 파일 전체 내용 열기\n",
    "f = open('C:\\\\Users\\\\WD\\\\python_basic\\\\newfile2.txt', 'r')\n",
    "data = f.read()\n",
    "print(data)\n",
    "f.close"
   ]
  },
  {
   "cell_type": "code",
   "execution_count": null,
   "id": "73629a45-d6b8-4a23-b3ee-8a8f0a8be740",
   "metadata": {},
   "outputs": [],
   "source": [
    "# 파일 객체를 for문으로 줄단위로 읽기\n",
    "f = open('C:\\\\Users\\\\WD\\\\python_basic\\\\newfile2.txt','r')\n",
    "for line in f:\n",
    "    print(line)\n",
    "f.close"
   ]
  },
  {
   "cell_type": "markdown",
   "id": "9b7e41ec-5fdd-4e88-9314-092762bbb772",
   "metadata": {},
   "source": [
    "### 4) 파일에 새로운 내용 추가"
   ]
  },
  {
   "cell_type": "code",
   "execution_count": null,
   "id": "4a6d793b-4e84-405b-b8eb-768db9033670",
   "metadata": {},
   "outputs": [],
   "source": [
    "f = open('C:\\\\Users\\\\WD\\\\python_basic\\\\newfile2.txt', 'a')\n",
    "for i in range(11,20):\n",
    "    data = f\"{i}번째 줄을 추가합니다.\\n\"\n",
    "    f.write(data)\n",
    "f.close()"
   ]
  },
  {
   "cell_type": "markdown",
   "id": "5fd7a8f5-065d-49b1-8200-70d95c4f50e2",
   "metadata": {},
   "source": [
    "### 5) with문과 함께 사용하기"
   ]
  },
  {
   "cell_type": "code",
   "execution_count": 43,
   "id": "cff8ab37-e0cd-45ed-b453-c925ca56cfac",
   "metadata": {},
   "outputs": [],
   "source": [
    "with open('./python_basic/foo2.txt','w') as f:\n",
    "    f.write(\"Life is too short, you need python\")"
   ]
  },
  {
   "cell_type": "code",
   "execution_count": null,
   "id": "0bc135c6-8f6c-450d-91d4-0067b2f30266",
   "metadata": {},
   "outputs": [],
   "source": []
  }
 ],
 "metadata": {
  "kernelspec": {
   "display_name": "Python [conda env:base] *",
   "language": "python",
   "name": "conda-base-py"
  },
  "language_info": {
   "codemirror_mode": {
    "name": "ipython",
    "version": 3
   },
   "file_extension": ".py",
   "mimetype": "text/x-python",
   "name": "python",
   "nbconvert_exporter": "python",
   "pygments_lexer": "ipython3",
   "version": "3.13.5"
  }
 },
 "nbformat": 4,
 "nbformat_minor": 5
}
