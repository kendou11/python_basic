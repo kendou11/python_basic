{
 "cells": [
  {
   "cell_type": "markdown",
   "id": "28706faa-8669-4a9f-ad0d-1c3266499c29",
   "metadata": {},
   "source": [
    "abs() : 절대값 구하는 함수"
   ]
  },
  {
   "cell_type": "code",
   "execution_count": 1,
   "id": "fcff3c7d-1759-43e5-8c18-cc652ca29073",
   "metadata": {},
   "outputs": [
    {
     "name": "stdout",
     "output_type": "stream",
     "text": [
      "3\n",
      "3\n"
     ]
    }
   ],
   "source": [
    "print(abs(3))\n",
    "print(abs(-3))"
   ]
  },
  {
   "cell_type": "markdown",
   "id": "b57b802c-8e2c-458f-86ec-65a486e60be0",
   "metadata": {},
   "source": [
    "all() : 반복 가능한 데이터에서 요소가 각 요소 확인하여 모든 요소가 참이면 True"
   ]
  },
  {
   "cell_type": "code",
   "execution_count": 3,
   "id": "f426c7bf-87da-4036-bd85-a9fb0b2aac1f",
   "metadata": {},
   "outputs": [
    {
     "data": {
      "text/plain": [
       "True"
      ]
     },
     "execution_count": 3,
     "metadata": {},
     "output_type": "execute_result"
    }
   ],
   "source": [
    "all([1,2,3])"
   ]
  },
  {
   "cell_type": "code",
   "execution_count": 7,
   "id": "26706388-cbc5-49fd-9702-7241dd422e13",
   "metadata": {},
   "outputs": [
    {
     "data": {
      "text/plain": [
       "False"
      ]
     },
     "execution_count": 7,
     "metadata": {},
     "output_type": "execute_result"
    }
   ],
   "source": [
    "all((0,1,2,3))"
   ]
  },
  {
   "cell_type": "code",
   "execution_count": 8,
   "id": "cb3e5d74-6f31-45de-9cdb-21159e389f05",
   "metadata": {},
   "outputs": [
    {
     "data": {
      "text/plain": [
       "True"
      ]
     },
     "execution_count": 8,
     "metadata": {},
     "output_type": "execute_result"
    }
   ],
   "source": [
    "all (\"\") # 빈 값인 경우 True"
   ]
  },
  {
   "cell_type": "markdown",
   "id": "b55fba28-297c-45d7-95c5-f25879237c57",
   "metadata": {},
   "source": [
    "any() : 반복 가능한 데이터에서 각 요소 하나라도 참이면 True"
   ]
  },
  {
   "cell_type": "code",
   "execution_count": 10,
   "id": "b8827903-ce31-4517-a8cc-0b00bcff3c13",
   "metadata": {},
   "outputs": [
    {
     "data": {
      "text/plain": [
       "True"
      ]
     },
     "execution_count": 10,
     "metadata": {},
     "output_type": "execute_result"
    }
   ],
   "source": [
    "any ([1,0])"
   ]
  },
  {
   "cell_type": "code",
   "execution_count": 11,
   "id": "68a49f4c-78c4-4d80-889b-0eebb353c1ac",
   "metadata": {},
   "outputs": [
    {
     "data": {
      "text/plain": [
       "False"
      ]
     },
     "execution_count": 11,
     "metadata": {},
     "output_type": "execute_result"
    }
   ],
   "source": [
    "any([0,\"\"])"
   ]
  },
  {
   "cell_type": "code",
   "execution_count": 12,
   "id": "30677152-16da-45c6-8eee-4d1c4b77364c",
   "metadata": {},
   "outputs": [
    {
     "data": {
      "text/plain": [
       "False"
      ]
     },
     "execution_count": 12,
     "metadata": {},
     "output_type": "execute_result"
    }
   ],
   "source": [
    "any([]) # 빈 값은 false  # all에서는 빈값이 True "
   ]
  },
  {
   "cell_type": "markdown",
   "id": "5618483c-ebe4-4e78-8459-3edf143499fe",
   "metadata": {},
   "source": [
    "chr() : 유니코드 값 반환"
   ]
  },
  {
   "cell_type": "code",
   "execution_count": 14,
   "id": "f8ddae7d-5aa2-4e7d-a28e-8719dc53f026",
   "metadata": {},
   "outputs": [
    {
     "data": {
      "text/plain": [
       "'a'"
      ]
     },
     "execution_count": 14,
     "metadata": {},
     "output_type": "execute_result"
    }
   ],
   "source": [
    "chr(97)"
   ]
  },
  {
   "cell_type": "code",
   "execution_count": 15,
   "id": "fc29fee4-98ae-443c-9163-35ed52250fa1",
   "metadata": {},
   "outputs": [
    {
     "data": {
      "text/plain": [
       "'W'"
      ]
     },
     "execution_count": 15,
     "metadata": {},
     "output_type": "execute_result"
    }
   ],
   "source": [
    "chr(87)"
   ]
  },
  {
   "cell_type": "code",
   "execution_count": 16,
   "id": "e6a127bb-0cd5-4af9-adc5-c849486dbeae",
   "metadata": {},
   "outputs": [
    {
     "data": {
      "text/plain": [
       "'가'"
      ]
     },
     "execution_count": 16,
     "metadata": {},
     "output_type": "execute_result"
    }
   ],
   "source": [
    "chr(44032)"
   ]
  },
  {
   "cell_type": "code",
   "execution_count": 18,
   "id": "55702ba0-5b0d-4438-9ffe-7e85dc8e97b3",
   "metadata": {},
   "outputs": [
    {
     "data": {
      "text/plain": [
       "'0'"
      ]
     },
     "execution_count": 18,
     "metadata": {},
     "output_type": "execute_result"
    }
   ],
   "source": [
    "chr(48)"
   ]
  },
  {
   "cell_type": "markdown",
   "id": "fe2afcd6-32c0-492b-9041-042b99b32d9b",
   "metadata": {},
   "source": [
    "dir(): 객체가 지닌 변수나 함수를 보여 주는 함수"
   ]
  },
  {
   "cell_type": "code",
   "execution_count": 19,
   "id": "d990d508-52f4-46c4-ad5c-aee97e1338bd",
   "metadata": {},
   "outputs": [
    {
     "data": {
      "text/plain": [
       "['__add__',\n",
       " '__class__',\n",
       " '__class_getitem__',\n",
       " '__contains__',\n",
       " '__delattr__',\n",
       " '__delitem__',\n",
       " '__dir__',\n",
       " '__doc__',\n",
       " '__eq__',\n",
       " '__format__',\n",
       " '__ge__',\n",
       " '__getattribute__',\n",
       " '__getitem__',\n",
       " '__getstate__',\n",
       " '__gt__',\n",
       " '__hash__',\n",
       " '__iadd__',\n",
       " '__imul__',\n",
       " '__init__',\n",
       " '__init_subclass__',\n",
       " '__iter__',\n",
       " '__le__',\n",
       " '__len__',\n",
       " '__lt__',\n",
       " '__mul__',\n",
       " '__ne__',\n",
       " '__new__',\n",
       " '__reduce__',\n",
       " '__reduce_ex__',\n",
       " '__repr__',\n",
       " '__reversed__',\n",
       " '__rmul__',\n",
       " '__setattr__',\n",
       " '__setitem__',\n",
       " '__sizeof__',\n",
       " '__str__',\n",
       " '__subclasshook__',\n",
       " 'append',\n",
       " 'clear',\n",
       " 'copy',\n",
       " 'count',\n",
       " 'extend',\n",
       " 'index',\n",
       " 'insert',\n",
       " 'pop',\n",
       " 'remove',\n",
       " 'reverse',\n",
       " 'sort']"
      ]
     },
     "execution_count": 19,
     "metadata": {},
     "output_type": "execute_result"
    }
   ],
   "source": [
    "dir([1,2,3])"
   ]
  },
  {
   "cell_type": "code",
   "execution_count": 20,
   "id": "207c1bc7-7fac-44fe-b963-431916daabc3",
   "metadata": {},
   "outputs": [
    {
     "data": {
      "text/plain": [
       "['__add__',\n",
       " '__class__',\n",
       " '__contains__',\n",
       " '__delattr__',\n",
       " '__dir__',\n",
       " '__doc__',\n",
       " '__eq__',\n",
       " '__format__',\n",
       " '__ge__',\n",
       " '__getattribute__',\n",
       " '__getitem__',\n",
       " '__getnewargs__',\n",
       " '__getstate__',\n",
       " '__gt__',\n",
       " '__hash__',\n",
       " '__init__',\n",
       " '__init_subclass__',\n",
       " '__iter__',\n",
       " '__le__',\n",
       " '__len__',\n",
       " '__lt__',\n",
       " '__mod__',\n",
       " '__mul__',\n",
       " '__ne__',\n",
       " '__new__',\n",
       " '__reduce__',\n",
       " '__reduce_ex__',\n",
       " '__repr__',\n",
       " '__rmod__',\n",
       " '__rmul__',\n",
       " '__setattr__',\n",
       " '__sizeof__',\n",
       " '__str__',\n",
       " '__subclasshook__',\n",
       " 'capitalize',\n",
       " 'casefold',\n",
       " 'center',\n",
       " 'count',\n",
       " 'encode',\n",
       " 'endswith',\n",
       " 'expandtabs',\n",
       " 'find',\n",
       " 'format',\n",
       " 'format_map',\n",
       " 'index',\n",
       " 'isalnum',\n",
       " 'isalpha',\n",
       " 'isascii',\n",
       " 'isdecimal',\n",
       " 'isdigit',\n",
       " 'isidentifier',\n",
       " 'islower',\n",
       " 'isnumeric',\n",
       " 'isprintable',\n",
       " 'isspace',\n",
       " 'istitle',\n",
       " 'isupper',\n",
       " 'join',\n",
       " 'ljust',\n",
       " 'lower',\n",
       " 'lstrip',\n",
       " 'maketrans',\n",
       " 'partition',\n",
       " 'removeprefix',\n",
       " 'removesuffix',\n",
       " 'replace',\n",
       " 'rfind',\n",
       " 'rindex',\n",
       " 'rjust',\n",
       " 'rpartition',\n",
       " 'rsplit',\n",
       " 'rstrip',\n",
       " 'split',\n",
       " 'splitlines',\n",
       " 'startswith',\n",
       " 'strip',\n",
       " 'swapcase',\n",
       " 'title',\n",
       " 'translate',\n",
       " 'upper',\n",
       " 'zfill']"
      ]
     },
     "execution_count": 20,
     "metadata": {},
     "output_type": "execute_result"
    }
   ],
   "source": [
    "dir(\"\")"
   ]
  },
  {
   "cell_type": "code",
   "execution_count": 21,
   "id": "b25ebf59-db95-4697-a5b3-8368fab107c1",
   "metadata": {},
   "outputs": [
    {
     "data": {
      "text/plain": [
       "['__class__',\n",
       " '__class_getitem__',\n",
       " '__contains__',\n",
       " '__delattr__',\n",
       " '__delitem__',\n",
       " '__dir__',\n",
       " '__doc__',\n",
       " '__eq__',\n",
       " '__format__',\n",
       " '__ge__',\n",
       " '__getattribute__',\n",
       " '__getitem__',\n",
       " '__getstate__',\n",
       " '__gt__',\n",
       " '__hash__',\n",
       " '__init__',\n",
       " '__init_subclass__',\n",
       " '__ior__',\n",
       " '__iter__',\n",
       " '__le__',\n",
       " '__len__',\n",
       " '__lt__',\n",
       " '__ne__',\n",
       " '__new__',\n",
       " '__or__',\n",
       " '__reduce__',\n",
       " '__reduce_ex__',\n",
       " '__repr__',\n",
       " '__reversed__',\n",
       " '__ror__',\n",
       " '__setattr__',\n",
       " '__setitem__',\n",
       " '__sizeof__',\n",
       " '__str__',\n",
       " '__subclasshook__',\n",
       " 'clear',\n",
       " 'copy',\n",
       " 'fromkeys',\n",
       " 'get',\n",
       " 'items',\n",
       " 'keys',\n",
       " 'pop',\n",
       " 'popitem',\n",
       " 'setdefault',\n",
       " 'update',\n",
       " 'values']"
      ]
     },
     "execution_count": 21,
     "metadata": {},
     "output_type": "execute_result"
    }
   ],
   "source": [
    "dir({})"
   ]
  },
  {
   "cell_type": "markdown",
   "id": "6f246644-4120-4869-a109-22d8e9ec4a91",
   "metadata": {},
   "source": [
    "divmod() : 몫과 나머지를 튜플로 반환"
   ]
  },
  {
   "cell_type": "code",
   "execution_count": 22,
   "id": "17cc6052-4138-4fc6-84bd-2a45f4f801ec",
   "metadata": {},
   "outputs": [
    {
     "data": {
      "text/plain": [
       "(2, 1)"
      ]
     },
     "execution_count": 22,
     "metadata": {},
     "output_type": "execute_result"
    }
   ],
   "source": [
    "divmod(7,3)"
   ]
  },
  {
   "cell_type": "code",
   "execution_count": 23,
   "id": "add3f608-c5ac-41bf-981c-94de095cef6d",
   "metadata": {},
   "outputs": [
    {
     "data": {
      "text/plain": [
       "2"
      ]
     },
     "execution_count": 23,
     "metadata": {},
     "output_type": "execute_result"
    }
   ],
   "source": [
    "7//3"
   ]
  },
  {
   "cell_type": "code",
   "execution_count": 24,
   "id": "5cfac615-4429-431f-8061-34354c5018ee",
   "metadata": {},
   "outputs": [
    {
     "data": {
      "text/plain": [
       "1"
      ]
     },
     "execution_count": 24,
     "metadata": {},
     "output_type": "execute_result"
    }
   ],
   "source": [
    "7%3"
   ]
  },
  {
   "cell_type": "markdown",
   "id": "38731849-d11d-4614-944c-5a2d33ac3d28",
   "metadata": {},
   "source": [
    "enmerate() : 순서가 있는 데이터의 인덱스 값을 포함하는 enmerate객체를 리턴"
   ]
  },
  {
   "cell_type": "code",
   "execution_count": 25,
   "id": "d94d6f10-2a3e-4cbe-8458-3b5dec50e93e",
   "metadata": {},
   "outputs": [
    {
     "name": "stdout",
     "output_type": "stream",
     "text": [
      "0 body\n",
      "1 foo\n",
      "2 bar\n"
     ]
    }
   ],
   "source": [
    "for i, name in enumerate(['body', 'foo','bar']):\n",
    "    print(i, name)"
   ]
  },
  {
   "cell_type": "code",
   "execution_count": 29,
   "id": "b6a7c9c0-a050-4b29-8e49-b271bfb8177a",
   "metadata": {},
   "outputs": [
    {
     "name": "stdout",
     "output_type": "stream",
     "text": [
      "0 a\n",
      "1 b\n",
      "2 c\n"
     ]
    }
   ],
   "source": [
    "for i, v in enumerate({'a':1, 'b':2, 'c':3}):\n",
    "    print(i,v)"
   ]
  },
  {
   "cell_type": "markdown",
   "id": "231d953f-021a-46bf-8ad8-79d8f3d16dc8",
   "metadata": {},
   "source": [
    "eval() : 표현식(문자열)을 실행한 결과값을 리턴"
   ]
  },
  {
   "cell_type": "code",
   "execution_count": 30,
   "id": "4d9ee3d2-5343-440e-80ba-63c3d7d06497",
   "metadata": {},
   "outputs": [
    {
     "data": {
      "text/plain": [
       "'1+2'"
      ]
     },
     "execution_count": 30,
     "metadata": {},
     "output_type": "execute_result"
    }
   ],
   "source": [
    "\"1+2\""
   ]
  },
  {
   "cell_type": "code",
   "execution_count": 31,
   "id": "af1b705c-fa1c-422f-95ff-d24279cb3b2a",
   "metadata": {},
   "outputs": [
    {
     "name": "stdout",
     "output_type": "stream",
     "text": [
      "1+2\n"
     ]
    }
   ],
   "source": [
    "print(\"1+2\")"
   ]
  },
  {
   "cell_type": "code",
   "execution_count": 33,
   "id": "6914a01a-ea9b-47a0-aee7-66d341fce964",
   "metadata": {},
   "outputs": [
    {
     "name": "stdout",
     "output_type": "stream",
     "text": [
      "3\n"
     ]
    }
   ],
   "source": [
    "print(eval(\"1+2\"))"
   ]
  },
  {
   "cell_type": "code",
   "execution_count": 35,
   "id": "7f34af25-6c25-4f30-9a78-7d024c33f2db",
   "metadata": {},
   "outputs": [
    {
     "data": {
      "text/plain": [
       "'hia'"
      ]
     },
     "execution_count": 35,
     "metadata": {},
     "output_type": "execute_result"
    }
   ],
   "source": [
    "eval('\"hi\"+\"a\"')"
   ]
  },
  {
   "cell_type": "code",
   "execution_count": 37,
   "id": "b4fbd762-e56c-4bca-a3b6-afbc92a7624f",
   "metadata": {},
   "outputs": [
    {
     "name": "stdout",
     "output_type": "stream",
     "text": [
      "0 body\n",
      "1 foo\n",
      "2 bar\n"
     ]
    }
   ],
   "source": [
    "for i, name in enumerate(['body', 'foo','bar']):\n",
    "    print(i, name)"
   ]
  },
  {
   "cell_type": "code",
   "execution_count": 39,
   "id": "02464863-b0af-4d2a-bb59-e5e48df19b41",
   "metadata": {},
   "outputs": [
    {
     "ename": "SyntaxError",
     "evalue": "invalid syntax (1535393024.py, line 1)",
     "output_type": "error",
     "traceback": [
      "\u001b[1;36m  Cell \u001b[1;32mIn[39], line 1\u001b[1;36m\u001b[0m\n\u001b[1;33m    for i, name in enumerate(['a':1, 'b':2,'c':3]).items:\u001b[0m\n\u001b[1;37m                                 ^\u001b[0m\n\u001b[1;31mSyntaxError\u001b[0m\u001b[1;31m:\u001b[0m invalid syntax\n"
     ]
    }
   ],
   "source": [
    "for i, name in enumerate(['a':1, 'b':2,'c':3]).items:\n",
    "    print(i, name)"
   ]
  },
  {
   "cell_type": "markdown",
   "id": "f10969d7-3ca9-4454-9bfc-49b2d76da627",
   "metadata": {},
   "source": [
    "filter() : 필터 안에서 정의한 함수의 결과값이 참인 것만 반환"
   ]
  },
  {
   "cell_type": "code",
   "execution_count": 41,
   "id": "2e9acb25-e5a9-4fda-817f-b5754fb8142f",
   "metadata": {},
   "outputs": [
    {
     "name": "stdout",
     "output_type": "stream",
     "text": [
      "[1, 2, 6]\n"
     ]
    }
   ],
   "source": [
    "# 일반함수로 양수값만 리턴\n",
    "def positive(list):\n",
    "    result = []\n",
    "    for i in list:\n",
    "        if i > 0:\n",
    "            result.append(i)\n",
    "    return result\n",
    "print(positive([1,-3,2,0,-5,6]))"
   ]
  },
  {
   "cell_type": "code",
   "execution_count": 43,
   "id": "e21dd693-33bb-497e-a9e4-551dc90ad80b",
   "metadata": {},
   "outputs": [
    {
     "name": "stdout",
     "output_type": "stream",
     "text": [
      "[1, 2, 6]\n"
     ]
    }
   ],
   "source": [
    "# filter함수로 양수값만 반환\n",
    "def positive(x):\n",
    "    return x>0\n",
    "\n",
    "print(list(filter(positive, [1,-3,2,0,-5,6])))"
   ]
  },
  {
   "cell_type": "markdown",
   "id": "fcc6f4bb-4395-4ce7-9436-f6d9f912f822",
   "metadata": {},
   "source": []
  },
  {
   "cell_type": "code",
   "execution_count": 45,
   "id": "168f7900-753d-4908-9e73-1da04011aa61",
   "metadata": {},
   "outputs": [
    {
     "data": {
      "text/plain": [
       "[1, 2, 6]"
      ]
     },
     "execution_count": 45,
     "metadata": {},
     "output_type": "execute_result"
    }
   ],
   "source": [
    "# lambda함수 사용\n",
    "list(filter(lambda x: x>0, [1,-3,2,0,-5,6]))"
   ]
  },
  {
   "cell_type": "markdown",
   "id": "e74a40ad-b44d-42e0-ae4c-4bc82e2da614",
   "metadata": {},
   "source": [
    "map() : map안세서 선언한 함수의 결과값을 반환"
   ]
  },
  {
   "cell_type": "markdown",
   "id": "854a1d7e-2b6c-44d8-b6b1-d08b1c9a47f3",
   "metadata": {},
   "source": [
    "# 일반함수로 리스트 각 요소에 *2\n",
    "def two_times(list):\n",
    "    result = []\n",
    "    for i in list:\n",
    "        result.append(i*2)\n",
    "    return result\n",
    "\n",
    "print(two_times([1,2,3,4]))"
   ]
  },
  {
   "cell_type": "code",
   "execution_count": 49,
   "id": "71c5209a-26ac-4910-80ed-01493c997941",
   "metadata": {},
   "outputs": [
    {
     "name": "stdout",
     "output_type": "stream",
     "text": [
      "[2, 4, 6, 8]\n"
     ]
    }
   ],
   "source": [
    "def two_times(list): \n",
    "    result = [] \n",
    "    for i in list: \n",
    "        result.append(i*2) \n",
    "    return result\n",
    "\n",
    "print(two_times([1,2,3,4]))"
   ]
  },
  {
   "cell_type": "code",
   "execution_count": 53,
   "id": "5cf9ffc2-084f-4d56-8df3-e4369f8e1c35",
   "metadata": {},
   "outputs": [
    {
     "data": {
      "text/plain": [
       "[2, 4, 6, 8]"
      ]
     },
     "execution_count": 53,
     "metadata": {},
     "output_type": "execute_result"
    }
   ],
   "source": [
    "# map함수로 리스트 각 요소에 *2\n",
    "def two_times(x):\n",
    "    return x*2\n",
    "\n",
    "list(map(two_times,[1,2,3,4]))"
   ]
  },
  {
   "cell_type": "code",
   "execution_count": 52,
   "id": "67bb347e-cfb2-4992-80d1-c9c495707112",
   "metadata": {},
   "outputs": [
    {
     "data": {
      "text/plain": [
       "[2, 4, 6, 8]"
      ]
     },
     "execution_count": 52,
     "metadata": {},
     "output_type": "execute_result"
    }
   ],
   "source": [
    "# lambda함수로\n",
    "list(map(lambda x:x*2,[1,2,3,4]))"
   ]
  },
  {
   "cell_type": "markdown",
   "id": "8348bf01-8ba3-4f08-9495-48be34b9b7d2",
   "metadata": {},
   "source": [
    "hex() : 정수 입력받아 16진수로"
   ]
  },
  {
   "cell_type": "code",
   "execution_count": 55,
   "id": "23826fea-885a-4563-a4a4-2222315f02b7",
   "metadata": {},
   "outputs": [
    {
     "name": "stdout",
     "output_type": "stream",
     "text": [
      "0xea\n",
      "0x3\n",
      "0xd\n",
      "0xa\n"
     ]
    }
   ],
   "source": [
    "print(hex(234))\n",
    "print(hex(3))\n",
    "print(hex(13))\n",
    "print(hex(10))"
   ]
  },
  {
   "cell_type": "markdown",
   "id": "b3ba87fe-c3e4-4e9e-b9ee-2691c1c4171f",
   "metadata": {},
   "source": [
    "id() : 객체의 주소값 확인"
   ]
  },
  {
   "cell_type": "code",
   "execution_count": 57,
   "id": "e4cec35d-e284-4782-8398-126d59ffdbbe",
   "metadata": {},
   "outputs": [],
   "source": [
    "a = 3"
   ]
  },
  {
   "cell_type": "code",
   "execution_count": 58,
   "id": "ba677425-7a87-41f7-a4c7-7a479afc8e45",
   "metadata": {},
   "outputs": [
    {
     "data": {
      "text/plain": [
       "140704708015080"
      ]
     },
     "execution_count": 58,
     "metadata": {},
     "output_type": "execute_result"
    }
   ],
   "source": [
    "id(a)"
   ]
  },
  {
   "cell_type": "code",
   "execution_count": 59,
   "id": "3a5079b7-53d2-427e-b1e1-2eb60f0a126c",
   "metadata": {},
   "outputs": [
    {
     "data": {
      "text/plain": [
       "140704708015080"
      ]
     },
     "execution_count": 59,
     "metadata": {},
     "output_type": "execute_result"
    }
   ],
   "source": [
    "b = a\n",
    "id(a)"
   ]
  },
  {
   "cell_type": "markdown",
   "id": "35e70fa7-c46e-4608-8dfb-737176957c01",
   "metadata": {},
   "source": [
    "isinstanse() : 객체가 그 클래스의 인스턴스인지 판단(확인)"
   ]
  },
  {
   "cell_type": "code",
   "execution_count": 64,
   "id": "a2b25b19-d997-42de-9745-da4a27a664a4",
   "metadata": {},
   "outputs": [
    {
     "name": "stdout",
     "output_type": "stream",
     "text": [
      "True\n"
     ]
    }
   ],
   "source": [
    "class Person: pass\n",
    "\n",
    "a = Person() # a는 person의 인스턴스\n",
    "print(isinstance(a, Person))"
   ]
  },
  {
   "cell_type": "markdown",
   "id": "03077827-8fe7-4f0b-b6d4-f6309cf5ecc6",
   "metadata": {},
   "source": [
    "max() : 최대값, min() : 최소값"
   ]
  },
  {
   "cell_type": "code",
   "execution_count": 66,
   "id": "33e7b8ec-354f-4085-ac52-4e3b5105c620",
   "metadata": {},
   "outputs": [
    {
     "name": "stdout",
     "output_type": "stream",
     "text": [
      "3\n",
      "y\n"
     ]
    }
   ],
   "source": [
    "print(max([1,2,3]))\n",
    "print(max(\"python\"))"
   ]
  },
  {
   "cell_type": "code",
   "execution_count": 67,
   "id": "1eded55b-0b35-40c8-a55b-535936bb6ae2",
   "metadata": {},
   "outputs": [
    {
     "name": "stdout",
     "output_type": "stream",
     "text": [
      "1\n",
      "h\n"
     ]
    }
   ],
   "source": [
    "print(min([1,2,3]))\n",
    "print(min(\"python\"))"
   ]
  },
  {
   "cell_type": "markdown",
   "id": "daea2034-a9ef-4135-b1de-4b14a2e5f9e3",
   "metadata": {},
   "source": [
    "ord() : chr() 반대, 문자를 전달인자로 넣으면 유니코드 값 반환"
   ]
  },
  {
   "cell_type": "code",
   "execution_count": 68,
   "id": "6402cdb9-c230-46d5-9219-951e41ee4ebe",
   "metadata": {},
   "outputs": [
    {
     "name": "stdout",
     "output_type": "stream",
     "text": [
      "97\n",
      "65\n",
      "48\n"
     ]
    }
   ],
   "source": [
    "print(ord('a'))\n",
    "print(ord('A'))\n",
    "print(ord('0'))"
   ]
  },
  {
   "cell_type": "markdown",
   "id": "107560aa-1b7e-4a94-8242-aaad705f5799",
   "metadata": {},
   "source": [
    "range() : 범위값을 반복 가능한 객체로 만들어 리턴"
   ]
  },
  {
   "cell_type": "code",
   "execution_count": 69,
   "id": "f832bc20-c3c6-430b-afcf-872bd57b4508",
   "metadata": {},
   "outputs": [
    {
     "data": {
      "text/plain": [
       "[0, 1, 2, 3, 4]"
      ]
     },
     "execution_count": 69,
     "metadata": {},
     "output_type": "execute_result"
    }
   ],
   "source": [
    "# 인수가 하나일때\n",
    "list(range(5))"
   ]
  },
  {
   "cell_type": "code",
   "execution_count": 70,
   "id": "b251e4c1-9663-4c64-9024-2bd49f54a338",
   "metadata": {},
   "outputs": [
    {
     "data": {
      "text/plain": [
       "[5, 6, 7, 8, 9]"
      ]
     },
     "execution_count": 70,
     "metadata": {},
     "output_type": "execute_result"
    }
   ],
   "source": [
    "# 인수가 두개일때\n",
    "list(range(5,10))"
   ]
  },
  {
   "cell_type": "code",
   "execution_count": 71,
   "id": "46da8ff9-e04c-4171-9563-18068c77ac1d",
   "metadata": {},
   "outputs": [
    {
     "data": {
      "text/plain": [
       "[1, 3, 5, 7, 9]"
      ]
     },
     "execution_count": 71,
     "metadata": {},
     "output_type": "execute_result"
    }
   ],
   "source": [
    "# 인수가 세개일때\n",
    "list(range(1,10,2))"
   ]
  },
  {
   "cell_type": "code",
   "execution_count": 72,
   "id": "5b87d8c3-07f8-4ae6-8e38-e173fbcae0bb",
   "metadata": {},
   "outputs": [
    {
     "data": {
      "text/plain": [
       "[0, -1, -2, -3, -4, -5, -6, -7, -8, -9]"
      ]
     },
     "execution_count": 72,
     "metadata": {},
     "output_type": "execute_result"
    }
   ],
   "source": [
    "list(range(0,-10,-1))"
   ]
  },
  {
   "cell_type": "markdown",
   "id": "3a18caee-9b98-4140-b325-557876de3a60",
   "metadata": {},
   "source": [
    "sorted() : "
   ]
  },
  {
   "cell_type": "code",
   "execution_count": 73,
   "id": "ee518f3e-a0fc-4bee-8367-9ee6614747c9",
   "metadata": {},
   "outputs": [
    {
     "data": {
      "text/plain": [
       "[1, 2, 3]"
      ]
     },
     "execution_count": 73,
     "metadata": {},
     "output_type": "execute_result"
    }
   ],
   "source": [
    "sorted([3,1,2])"
   ]
  },
  {
   "cell_type": "code",
   "execution_count": 74,
   "id": "483c8403-822a-4a09-9449-5ab43f10dfb1",
   "metadata": {},
   "outputs": [
    {
     "data": {
      "text/plain": [
       "['a', 'b', 'c']"
      ]
     },
     "execution_count": 74,
     "metadata": {},
     "output_type": "execute_result"
    }
   ],
   "source": [
    "sorted(['c','b','a'])"
   ]
  },
  {
   "cell_type": "code",
   "execution_count": 75,
   "id": "11fa292a-1a7f-4d1f-836f-09fbc1c5420d",
   "metadata": {},
   "outputs": [
    {
     "data": {
      "text/plain": [
       "['e', 'o', 'r', 'z']"
      ]
     },
     "execution_count": 75,
     "metadata": {},
     "output_type": "execute_result"
    }
   ],
   "source": [
    "sorted(\"zero\")"
   ]
  },
  {
   "cell_type": "markdown",
   "id": "0abbf6bb-20ad-4485-84c8-ce8848681582",
   "metadata": {},
   "source": [
    "zip() : 동일한 갯수로 이루어진 반복되는 데이터를 묶어서 리턴"
   ]
  },
  {
   "cell_type": "code",
   "execution_count": 77,
   "id": "6558c2ce-4664-4973-97f5-7e817f6e8b3f",
   "metadata": {},
   "outputs": [
    {
     "data": {
      "text/plain": [
       "[(1, 2), (2, 3), (3, 4)]"
      ]
     },
     "execution_count": 77,
     "metadata": {},
     "output_type": "execute_result"
    }
   ],
   "source": [
    "list(zip([1,2,3],[2,3,4]))"
   ]
  },
  {
   "cell_type": "code",
   "execution_count": 78,
   "id": "39d9d07a-676e-4848-87f2-c98546879fa9",
   "metadata": {},
   "outputs": [
    {
     "data": {
      "text/plain": [
       "[(1, 6), (2, 7), (3, 8)]"
      ]
     },
     "execution_count": 78,
     "metadata": {},
     "output_type": "execute_result"
    }
   ],
   "source": [
    "list(zip([1,2,3,4,5],[6,7,8]))"
   ]
  },
  {
   "cell_type": "code",
   "execution_count": 79,
   "id": "cb8de130-827d-4065-938a-315e3e90abca",
   "metadata": {},
   "outputs": [
    {
     "data": {
      "text/plain": [
       "[('a', 'd'), ('b', 'e'), ('c', 'f')]"
      ]
     },
     "execution_count": 79,
     "metadata": {},
     "output_type": "execute_result"
    }
   ],
   "source": [
    "list(zip(\"abc\",\"def\"))"
   ]
  },
  {
   "cell_type": "code",
   "execution_count": 80,
   "id": "be2f45e5-878b-4f10-9fa8-f42de44843ee",
   "metadata": {},
   "outputs": [
    {
     "data": {
      "text/plain": [
       "[(1, 4), (2, 5), (3, 6)]"
      ]
     },
     "execution_count": 80,
     "metadata": {},
     "output_type": "execute_result"
    }
   ],
   "source": [
    "list(zip((1,2,3),(4,5,6)))"
   ]
  },
  {
   "cell_type": "code",
   "execution_count": null,
   "id": "d142e5fb-7eb9-4e42-88b9-eb15e6ad3abb",
   "metadata": {},
   "outputs": [],
   "source": []
  }
 ],
 "metadata": {
  "kernelspec": {
   "display_name": "Python [conda env:base] *",
   "language": "python",
   "name": "conda-base-py"
  },
  "language_info": {
   "codemirror_mode": {
    "name": "ipython",
    "version": 3
   },
   "file_extension": ".py",
   "mimetype": "text/x-python",
   "name": "python",
   "nbconvert_exporter": "python",
   "pygments_lexer": "ipython3",
   "version": "3.13.5"
  }
 },
 "nbformat": 4,
 "nbformat_minor": 5
}
