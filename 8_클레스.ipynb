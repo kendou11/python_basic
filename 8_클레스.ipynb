{
 "cells": [
  {
   "cell_type": "markdown",
   "id": "6fe5024b-b2fc-46d2-b5a3-e074c7fe9d01",
   "metadata": {},
   "source": [
    "# 1. 클래스는 왜 필요한가?"
   ]
  },
  {
   "cell_type": "code",
   "execution_count": 1,
   "id": "7b98bc49-7fe7-4aa2-a564-931b32b3b18d",
   "metadata": {},
   "outputs": [
    {
     "name": "stdout",
     "output_type": "stream",
     "text": [
      "3\n",
      "7\n"
     ]
    }
   ],
   "source": [
    "# 함수로 계산기 만들기\n",
    "result = 0\n",
    "\n",
    "def add(num):\n",
    "    global result\n",
    "    result += num\n",
    "    return result\n",
    "\n",
    "print(add(3)) # 0+3 = 3\n",
    "print(add(4)) # 3+4 = 7"
   ]
  },
  {
   "cell_type": "code",
   "execution_count": 4,
   "id": "adb8cfe8-0a4d-4822-ab58-fbdc0b5058dd",
   "metadata": {},
   "outputs": [
    {
     "name": "stdout",
     "output_type": "stream",
     "text": [
      "3\n",
      "7\n",
      "5\n",
      "11\n"
     ]
    }
   ],
   "source": [
    "# 계산기 2개로 각각 계산\n",
    "res1 = 0\n",
    "res2 = 0\n",
    "\n",
    "def add1(num):\n",
    "    global res1\n",
    "    res1+=num\n",
    "    return res1\n",
    "\n",
    "def add2(num):\n",
    "    global res2\n",
    "    res2+=num\n",
    "    return res2\n",
    "\n",
    "print(add1(3))\n",
    "print(add1(4))\n",
    "print(add2(5))\n",
    "print(add2(6))"
   ]
  },
  {
   "cell_type": "code",
   "execution_count": 8,
   "id": "545dc146-6832-4240-beea-0dc7df87d9bd",
   "metadata": {},
   "outputs": [
    {
     "name": "stdout",
     "output_type": "stream",
     "text": [
      "3\n",
      "7\n",
      "5\n",
      "11\n"
     ]
    }
   ],
   "source": [
    "# 클래스 여러개 계산기 만들기\n",
    "class Calculater:\n",
    "    def __init__(self):\n",
    "        self.result = 0 # 계산기 초기값\n",
    "\n",
    "    def add(self,num):\n",
    "        self.result += num\n",
    "        return self.result\n",
    "\n",
    "cal1 = Calculater()  #인스턴스 - 계산기1\n",
    "cal2 = Calculater()  #인스턴스 - 계산기2\n",
    "\n",
    "print(cal1.add(3))\n",
    "print(cal1.add(4))\n",
    "print(cal2.add(5))\n",
    "print(cal2.add(6))"
   ]
  },
  {
   "cell_type": "code",
   "execution_count": 13,
   "id": "4a43035f-3210-484b-b19a-a2fd5b063fdc",
   "metadata": {},
   "outputs": [
    {
     "name": "stdout",
     "output_type": "stream",
     "text": [
      "10\n",
      "13\n",
      "8\n",
      "--------------------\n",
      "-5\n",
      "15\n"
     ]
    }
   ],
   "source": [
    "# 더하기 / 빼기 기능이 있는 계산기의 설계도(class)\n",
    "class Calculater:\n",
    "    def __init__(self):\n",
    "        self.result = 0 # 계산기 초기값\n",
    "\n",
    "    def add(self,num):\n",
    "        self.result += num\n",
    "        return self.result\n",
    "\n",
    "    def sub(self,num):\n",
    "        self.result -= num\n",
    "        return self.result\n",
    "\n",
    "cal1 = Calculater()\n",
    "print(cal1.add(10)) # 0+10 = 10\n",
    "print(cal1.add(3))  # 10+3 = 13\n",
    "print(cal1.sub(5))  # 13-5 = 8\n",
    "print('-'*20)\n",
    "cal2 = Calculater()\n",
    "print(cal2.sub(5)) # 0-5 = -5\n",
    "print(cal2.add(20)) # -5+20 = 15"
   ]
  },
  {
   "cell_type": "markdown",
   "id": "84cf942b-0901-48e0-830a-b743b5de54e4",
   "metadata": {},
   "source": [
    "## 3. 사칙연산 클래스 만들기"
   ]
  },
  {
   "cell_type": "code",
   "execution_count": 14,
   "id": "91ddfa28-2a0f-4373-9696-0de365d31efb",
   "metadata": {},
   "outputs": [],
   "source": [
    "class FourCal:\n",
    "    pass"
   ]
  },
  {
   "cell_type": "code",
   "execution_count": 20,
   "id": "add25f9e-c407-4c83-af7f-b4bfc6586e3a",
   "metadata": {},
   "outputs": [
    {
     "data": {
      "text/plain": [
       "__main__.FourCal"
      ]
     },
     "execution_count": 20,
     "metadata": {},
     "output_type": "execute_result"
    }
   ],
   "source": [
    "a = FourCal()\n",
    "type(a)"
   ]
  },
  {
   "cell_type": "code",
   "execution_count": 21,
   "id": "7009dd23-bbd8-4621-b1b7-243775b752c4",
   "metadata": {},
   "outputs": [],
   "source": [
    "class FourCal:\n",
    "    def setdata(self, first, second):\n",
    "        self.first = first\n",
    "        self.second = second"
   ]
  },
  {
   "cell_type": "code",
   "execution_count": 23,
   "id": "2e2e6575-2fcf-4885-a477-818c8f872b86",
   "metadata": {},
   "outputs": [
    {
     "name": "stdout",
     "output_type": "stream",
     "text": [
      "3 4\n"
     ]
    }
   ],
   "source": [
    "a = FourCal() #인스턴스 생성\n",
    "a.setdata(3,4)\n",
    "print(a.first, a.second)"
   ]
  },
  {
   "cell_type": "code",
   "execution_count": 55,
   "id": "fcb9c3cf-fada-47d6-b258-ea467e3b893a",
   "metadata": {},
   "outputs": [
    {
     "name": "stdout",
     "output_type": "stream",
     "text": [
      "6\n",
      "2\n",
      "8\n",
      "2.0\n",
      "********************\n",
      "11\n",
      "-5\n",
      "24\n",
      "0.375\n"
     ]
    }
   ],
   "source": [
    "class FourCal:\n",
    "    def setdata(self, first, second):\n",
    "        self.first = first\n",
    "        self.second = second\n",
    "\n",
    "    def add(self):\n",
    "        result = self.first + self.second\n",
    "        return result\n",
    "\n",
    "    def sub(self):\n",
    "        result = self.first - self.second\n",
    "        return result\n",
    "\n",
    "    def mul(self):\n",
    "        result = self.first * self.second\n",
    "        return result\n",
    "\n",
    "    def div(self):\n",
    "        result = self.first / self.second\n",
    "        return result\n",
    "\n",
    "cal1 = FourCal() # 계산기1\n",
    "cal2 = FourCal() # 계산기2\n",
    "\n",
    "#계산기에 2개의 숫자 입력\n",
    "cal1.setdata(4,2)\n",
    "cal2.setdata(3,8)\n",
    "\n",
    "print(cal1.add())\n",
    "print(cal1.sub())\n",
    "print(cal1.mul())\n",
    "print(cal1.div())\n",
    "print('*'*20)\n",
    "print(cal2.add())\n",
    "print(cal2.sub())\n",
    "print(cal2.mul())\n",
    "print(cal2.div())"
   ]
  },
  {
   "cell_type": "markdown",
   "id": "343793e2-8d3a-4cd3-a82d-71a5024ae2f9",
   "metadata": {},
   "source": [
    "### 4. 생성자"
   ]
  },
  {
   "cell_type": "code",
   "execution_count": 57,
   "id": "8f4eea85-1f8b-4b07-a629-a83d26f4ba8c",
   "metadata": {},
   "outputs": [],
   "source": [
    "class FourCal:\n",
    "    def __init__(self, first, second):\n",
    "        self.first = first\n",
    "        self.second = second\n",
    "\n",
    "    def add(self):\n",
    "        result = self.first + self.second\n",
    "        return result\n",
    "\n",
    "    def sub(self):\n",
    "        result = self.first - self.second\n",
    "        return result\n",
    "\n",
    "    def mul(self):\n",
    "        result = self.first * self.second\n",
    "        return result\n",
    "\n",
    "    def div(self):\n",
    "        result = self.first / self.second\n",
    "        return result"
   ]
  },
  {
   "cell_type": "code",
   "execution_count": 58,
   "id": "f734e266-66d3-4614-a7cc-a5f26c6f3501",
   "metadata": {},
   "outputs": [
    {
     "ename": "TypeError",
     "evalue": "FourCal.__init__() missing 2 required positional arguments: 'first' and 'second'",
     "output_type": "error",
     "traceback": [
      "\u001b[1;31m---------------------------------------------------------------------------\u001b[0m",
      "\u001b[1;31mTypeError\u001b[0m                                 Traceback (most recent call last)",
      "Cell \u001b[1;32mIn[58], line 1\u001b[0m\n\u001b[1;32m----> 1\u001b[0m calc1 \u001b[38;5;241m=\u001b[39m FourCal()\n",
      "\u001b[1;31mTypeError\u001b[0m: FourCal.__init__() missing 2 required positional arguments: 'first' and 'second'"
     ]
    }
   ],
   "source": [
    "calc1 = FourCal()"
   ]
  },
  {
   "cell_type": "code",
   "execution_count": 59,
   "id": "c3cfd750-4d79-4221-b981-e36ab675ecc2",
   "metadata": {},
   "outputs": [],
   "source": [
    "calc1 = FourCal(15,3)"
   ]
  },
  {
   "cell_type": "code",
   "execution_count": 60,
   "id": "bb70dd04-61cb-4ec2-9cd6-44929e42f011",
   "metadata": {},
   "outputs": [
    {
     "data": {
      "text/plain": [
       "15"
      ]
     },
     "execution_count": 60,
     "metadata": {},
     "output_type": "execute_result"
    }
   ],
   "source": [
    "calc1.first"
   ]
  },
  {
   "cell_type": "code",
   "execution_count": 61,
   "id": "36931a16-d27e-4e7e-8b7f-75cf420cf2f1",
   "metadata": {},
   "outputs": [
    {
     "data": {
      "text/plain": [
       "3"
      ]
     },
     "execution_count": 61,
     "metadata": {},
     "output_type": "execute_result"
    }
   ],
   "source": [
    "calc1.second"
   ]
  },
  {
   "cell_type": "code",
   "execution_count": 62,
   "id": "5fbe4044-d3ac-41cc-bfde-c1c12c970ebc",
   "metadata": {},
   "outputs": [
    {
     "name": "stdout",
     "output_type": "stream",
     "text": [
      "15+3 = 6\n",
      "15-3 = 2\n",
      "15*3 = 8\n",
      "15/3 = 2.0\n"
     ]
    }
   ],
   "source": [
    "print('15+3 =',cal1.add())\n",
    "print('15-3 =',cal1.sub())\n",
    "print('15*3 =',cal1.mul())\n",
    "print('15/3 =',cal1.div())"
   ]
  },
  {
   "cell_type": "markdown",
   "id": "d85120fd-dc3f-442a-92cf-a02a88143dc7",
   "metadata": {},
   "source": [
    "## 5. 클래스 상속"
   ]
  },
  {
   "cell_type": "code",
   "execution_count": 63,
   "id": "b51ae912-6c7a-4972-aefa-960e2d67f4e3",
   "metadata": {},
   "outputs": [],
   "source": [
    "class MoreFourCal(FourCal):\n",
    "    pass"
   ]
  },
  {
   "cell_type": "code",
   "execution_count": 64,
   "id": "f0bc0c13-1057-4dc1-8f40-7d677fe76ae9",
   "metadata": {},
   "outputs": [],
   "source": [
    "cal1 = MoreFourCal(4,2)"
   ]
  },
  {
   "cell_type": "code",
   "execution_count": 65,
   "id": "315ef911-fbfe-4152-accc-f78432d04981",
   "metadata": {},
   "outputs": [
    {
     "name": "stdout",
     "output_type": "stream",
     "text": [
      "6\n",
      "2\n",
      "8\n",
      "2.0\n"
     ]
    }
   ],
   "source": [
    "print(cal1.add())\n",
    "print(cal1.sub())\n",
    "print(cal1.mul())\n",
    "print(cal1.div())"
   ]
  },
  {
   "cell_type": "code",
   "execution_count": 67,
   "id": "1353686b-24fa-4c44-9535-f655015eac6d",
   "metadata": {},
   "outputs": [
    {
     "name": "stdout",
     "output_type": "stream",
     "text": [
      "6\n",
      "2\n",
      "8\n",
      "2.0\n",
      "16\n"
     ]
    }
   ],
   "source": [
    "# 기본기능은 상속받았고, MoreFourCal만의 기능을 추가\n",
    "class MoreFourCal(FourCal):\n",
    "    def pow(self):\n",
    "        result = self.first **self.second\n",
    "        return result\n",
    "\n",
    "cal2 = MoreFourCal(4,2)\n",
    "print(cal2.add())\n",
    "print(cal2.sub())\n",
    "print(cal2.mul())\n",
    "print(cal2.div())\n",
    "print(cal2.pow())"
   ]
  },
  {
   "cell_type": "code",
   "execution_count": 68,
   "id": "6c56b54c-eab6-4b9e-83dd-d7c6f99a42c7",
   "metadata": {},
   "outputs": [
    {
     "name": "stdout",
     "output_type": "stream",
     "text": [
      "4\n",
      "4\n",
      "0\n"
     ]
    }
   ],
   "source": [
    "cal3 = MoreFourCal(4,0)\n",
    "print(cal3.add())\n",
    "print(cal3.sub())\n",
    "print(cal3.mul())"
   ]
  },
  {
   "cell_type": "markdown",
   "id": "753e6d45-61f1-4e60-a938-d962e3133021",
   "metadata": {},
   "source": [
    "### 6. 메서드 오버라이딩"
   ]
  },
  {
   "cell_type": "code",
   "execution_count": 69,
   "id": "76e5e9b1-b705-48b6-b28f-bde80c60659a",
   "metadata": {},
   "outputs": [],
   "source": [
    "class SafeFourCal(FourCal):\n",
    "    #상속받은 메서드 재정의(overriding)\n",
    "    def div(self):\n",
    "        if self.second == 0:\n",
    "            return 0\n",
    "        else:\n",
    "            result = self.first / self.second\n",
    "            return result"
   ]
  },
  {
   "cell_type": "code",
   "execution_count": 71,
   "id": "d0688a91-4ecf-4fbb-9ef5-9951a73a28ab",
   "metadata": {},
   "outputs": [],
   "source": [
    "calc = SafeFourCal(4,0)"
   ]
  },
  {
   "cell_type": "code",
   "execution_count": 72,
   "id": "2022e29b-ecde-4064-af9a-f67e83a4a411",
   "metadata": {},
   "outputs": [
    {
     "name": "stdout",
     "output_type": "stream",
     "text": [
      "4\n",
      "4\n",
      "0\n",
      "0\n"
     ]
    }
   ],
   "source": [
    "print(calc.add())\n",
    "print(calc.sub())\n",
    "print(calc.mul())\n",
    "print(calc.div())"
   ]
  },
  {
   "cell_type": "markdown",
   "id": "1182130e-684e-4b37-a1e3-b5e44a930b99",
   "metadata": {},
   "source": [
    "# 7. 클래스 변수"
   ]
  },
  {
   "cell_type": "code",
   "execution_count": 49,
   "id": "673eab6f-e60d-47c3-adb6-579ae4166854",
   "metadata": {},
   "outputs": [],
   "source": [
    "class Family:\n",
    "    lastname = '김'"
   ]
  },
  {
   "cell_type": "code",
   "execution_count": 50,
   "id": "d739c934-05c2-4ad3-ba1a-ee857f4fb301",
   "metadata": {},
   "outputs": [
    {
     "data": {
      "text/plain": [
       "'김'"
      ]
     },
     "execution_count": 50,
     "metadata": {},
     "output_type": "execute_result"
    }
   ],
   "source": [
    "Family.lastname"
   ]
  },
  {
   "cell_type": "code",
   "execution_count": 51,
   "id": "bf54d635-efb0-4076-89b3-d0a580119b0a",
   "metadata": {},
   "outputs": [
    {
     "name": "stdout",
     "output_type": "stream",
     "text": [
      "김\n",
      "김\n"
     ]
    }
   ],
   "source": [
    "a = Family()\n",
    "b = Family()\n",
    "print(a.lastname)\n",
    "print(b.lastname)"
   ]
  },
  {
   "cell_type": "code",
   "execution_count": 52,
   "id": "558fc22d-c0c5-46cb-867b-2ed7d222eb39",
   "metadata": {},
   "outputs": [
    {
     "name": "stdout",
     "output_type": "stream",
     "text": [
      "박\n",
      "박\n"
     ]
    }
   ],
   "source": [
    "# 클래스 변수 변경\n",
    "Family.lastname = '박'\n",
    "# Family.lastname => 클래스 변수를 변경하면 인스턴스 변수도 변경\n",
    "print(a.lastname)\n",
    "print(b.lastname)"
   ]
  },
  {
   "cell_type": "code",
   "execution_count": 53,
   "id": "4f390e73-7bf8-49bb-88a8-d5846a914107",
   "metadata": {},
   "outputs": [
    {
     "name": "stdout",
     "output_type": "stream",
     "text": [
      "최\n",
      "박\n"
     ]
    }
   ],
   "source": [
    "# 인스턴스 변수 변경\n",
    "a.lastname = '최'\n",
    "print(a.lastname) #인스턴스 변수를 변경하면 해당 인수턴스 변수만 변경됨.\n",
    "print(b.lastname)"
   ]
  },
  {
   "cell_type": "code",
   "execution_count": null,
   "id": "493d2b84-2628-4464-964e-e7f0d1b98125",
   "metadata": {},
   "outputs": [],
   "source": []
  }
 ],
 "metadata": {
  "kernelspec": {
   "display_name": "Python [conda env:base] *",
   "language": "python",
   "name": "conda-base-py"
  },
  "language_info": {
   "codemirror_mode": {
    "name": "ipython",
    "version": 3
   },
   "file_extension": ".py",
   "mimetype": "text/x-python",
   "name": "python",
   "nbconvert_exporter": "python",
   "pygments_lexer": "ipython3",
   "version": "3.13.5"
  }
 },
 "nbformat": 4,
 "nbformat_minor": 5
}
