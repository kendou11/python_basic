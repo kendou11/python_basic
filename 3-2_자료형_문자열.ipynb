{
 "cells": [
  {
   "cell_type": "markdown",
   "id": "0f91000e-96df-485f-aea1-4201a77bba8f",
   "metadata": {},
   "source": [
    "##_자료형_문자열"
   ]
  },
  {
   "cell_type": "code",
   "execution_count": 3,
   "id": "c1222eea-e181-47eb-878a-4e978ddd82af",
   "metadata": {},
   "outputs": [
    {
     "name": "stdout",
     "output_type": "stream",
     "text": [
      "fython's faverite is perl\n",
      "<class 'str'>\n"
     ]
    }
   ],
   "source": [
    "food = \"python's faverite is perl\"\n",
    "print(food)\n",
    "print(type(food))"
   ]
  },
  {
   "cell_type": "code",
   "execution_count": 4,
   "id": "18b768b9-f436-4e65-87e9-fab12bc9beda",
   "metadata": {},
   "outputs": [
    {
     "ename": "SyntaxError",
     "evalue": "unterminated string literal (detected at line 1) (99602480.py, line 1)",
     "output_type": "error",
     "traceback": [
      "\u001b[1;36m  Cell \u001b[1;32mIn[4], line 1\u001b[1;36m\u001b[0m\n\u001b[1;33m    food = 'fython's faverite is perl'\u001b[0m\n\u001b[1;37m                                     ^\u001b[0m\n\u001b[1;31mSyntaxError\u001b[0m\u001b[1;31m:\u001b[0m unterminated string literal (detected at line 1)\n"
     ]
    }
   ],
   "source": [
    "food = 'python's faverite is perl'\n",
    "print(food)\n",
    "print(type(food))"
   ]
  },
  {
   "cell_type": "code",
   "execution_count": 5,
   "id": "0986589e-1006-4f92-8208-d5384e12d42b",
   "metadata": {},
   "outputs": [
    {
     "name": "stdout",
     "output_type": "stream",
     "text": [
      "python's faverite is perl\n",
      "<class 'str'>\n"
     ]
    }
   ],
   "source": [
    "food = 'python\\'s faverite is perl'\n",
    "print(food)\n",
    "print(type(food))"
   ]
  },
  {
   "cell_type": "code",
   "execution_count": 9,
   "id": "6d0bc8eb-e9ec-4bb6-841b-d99d7e396b26",
   "metadata": {},
   "outputs": [
    {
     "name": "stdout",
     "output_type": "stream",
     "text": [
      "\"python is very easy.\" he says\n"
     ]
    }
   ],
   "source": [
    "say = '\"python is very easy.\" he says'\n",
    "print (say)"
   ]
  },
  {
   "cell_type": "code",
   "execution_count": 10,
   "id": "949123cb-0199-4476-b2ba-d8a2cb4783da",
   "metadata": {},
   "outputs": [
    {
     "name": "stdout",
     "output_type": "stream",
     "text": [
      "\"python is very easy.\" he says\n"
     ]
    }
   ],
   "source": [
    "say = \"\\\"python is very easy.\\\" he says\"\n",
    "print (say)"
   ]
  },
  {
   "cell_type": "markdown",
   "id": "2d9dbe5e-2840-4e38-a219-4df3384d85fe",
   "metadata": {},
   "source": [
    "### 여러줄 문자열"
   ]
  },
  {
   "cell_type": "code",
   "execution_count": 11,
   "id": "75f6e77a-a5bb-48b6-a2d6-e98b5e2e5cec",
   "metadata": {},
   "outputs": [
    {
     "name": "stdout",
     "output_type": "stream",
     "text": [
      "life is too short you need python\n"
     ]
    }
   ],
   "source": [
    "multiline = \"life is too short you need python\"\n",
    "print(multiline)"
   ]
  },
  {
   "cell_type": "code",
   "execution_count": 12,
   "id": "a8779af9-2b26-43f1-807d-f88f9582beeb",
   "metadata": {},
   "outputs": [
    {
     "name": "stdout",
     "output_type": "stream",
     "text": [
      "life is too short\n",
      " you need python\n"
     ]
    }
   ],
   "source": [
    "multiline = \"life is too short\\n you need python\"\n",
    "print(multiline)"
   ]
  },
  {
   "cell_type": "code",
   "execution_count": 13,
   "id": "ced4ff55-7c49-4458-be34-237317f0b42a",
   "metadata": {},
   "outputs": [
    {
     "name": "stdout",
     "output_type": "stream",
     "text": [
      "life is too short\n",
      " you need python\n"
     ]
    }
   ],
   "source": [
    "multiline = \"\"\"life is too short\\n you need python\"\"\"\n",
    "print(multiline)"
   ]
  },
  {
   "cell_type": "code",
   "execution_count": 15,
   "id": "81cdd412-004a-43ec-8a28-d6f2e28a3236",
   "metadata": {},
   "outputs": [
    {
     "name": "stdout",
     "output_type": "stream",
     "text": [
      "life is too short\n",
      " you need python\n"
     ]
    }
   ],
   "source": [
    "multiline = '''life is too short\\n you need python'''\n",
    "print(multiline)"
   ]
  },
  {
   "cell_type": "markdown",
   "id": "2bb69f05-82ff-4212-a9b9-f92821f9d922",
   "metadata": {},
   "source": [
    "### 문자열 연산"
   ]
  },
  {
   "cell_type": "code",
   "execution_count": 16,
   "id": "c7829ed6-cba2-4170-9e4a-f71f2f8dc5d1",
   "metadata": {},
   "outputs": [
    {
     "data": {
      "text/plain": [
       "'pythonis fun!!'"
      ]
     },
     "execution_count": 16,
     "metadata": {},
     "output_type": "execute_result"
    }
   ],
   "source": [
    "head = \"python\"\n",
    "tail = \"is fun!!\"\n",
    "head+tail"
   ]
  },
  {
   "cell_type": "code",
   "execution_count": 18,
   "id": "149ffce3-c51c-4794-84ea-163977ea4b71",
   "metadata": {},
   "outputs": [
    {
     "name": "stdout",
     "output_type": "stream",
     "text": [
      "pythonpythonpython\n",
      "pythonpython\n"
     ]
    }
   ],
   "source": [
    "a = \"python\"\n",
    "b = \"is fun!!\"\n",
    "print(a*3)\n",
    "print(a*2)"
   ]
  },
  {
   "cell_type": "code",
   "execution_count": 20,
   "id": "239befe1-d01a-435a-a7c8-4cefb74b9584",
   "metadata": {},
   "outputs": [
    {
     "name": "stdout",
     "output_type": "stream",
     "text": [
      "==================================================\n",
      "python\n",
      "++++++++++++++++++++++++++++++++++++++++++++++++++\n"
     ]
    }
   ],
   "source": [
    "print('='*50)\n",
    "print('python')\n",
    "print('+'*50)"
   ]
  },
  {
   "cell_type": "markdown",
   "id": "266032eb-bc52-4b8c-9f31-6f1e1b51609c",
   "metadata": {},
   "source": [
    "### 문자열 길이 구하기"
   ]
  },
  {
   "cell_type": "code",
   "execution_count": 21,
   "id": "4617e2be-7b2e-4117-a357-bc193747db7f",
   "metadata": {},
   "outputs": [
    {
     "data": {
      "text/plain": [
       "17"
      ]
     },
     "execution_count": 21,
     "metadata": {},
     "output_type": "execute_result"
    }
   ],
   "source": [
    "a = \"life is too short\"\n",
    "len(a)"
   ]
  },
  {
   "cell_type": "markdown",
   "id": "dffcbb9d-e964-4fb5-a006-223735c7d1e8",
   "metadata": {},
   "source": [
    "### 문자열 인덱싱"
   ]
  },
  {
   "cell_type": "code",
   "execution_count": 22,
   "id": "58d2d90c-2a6d-4766-9ee0-1ff32422e0d6",
   "metadata": {},
   "outputs": [],
   "source": [
    "a = \"life is too short, you need python\""
   ]
  },
  {
   "cell_type": "code",
   "execution_count": 23,
   "id": "3ee9a84d-8910-4420-8ded-b7417ac48031",
   "metadata": {},
   "outputs": [
    {
     "data": {
      "text/plain": [
       "'l'"
      ]
     },
     "execution_count": 23,
     "metadata": {},
     "output_type": "execute_result"
    }
   ],
   "source": [
    "a[0]"
   ]
  },
  {
   "cell_type": "code",
   "execution_count": 24,
   "id": "e931c648-941c-40bb-bd8d-cff20fa1730a",
   "metadata": {},
   "outputs": [
    {
     "data": {
      "text/plain": [
       "'i'"
      ]
     },
     "execution_count": 24,
     "metadata": {},
     "output_type": "execute_result"
    }
   ],
   "source": [
    "a[5]"
   ]
  },
  {
   "cell_type": "code",
   "execution_count": 26,
   "id": "3ff16606-a162-4238-bc82-3e33a6cca2c8",
   "metadata": {},
   "outputs": [
    {
     "data": {
      "text/plain": [
       "17"
      ]
     },
     "execution_count": 26,
     "metadata": {},
     "output_type": "execute_result"
    }
   ],
   "source": [
    "len(a)"
   ]
  },
  {
   "cell_type": "code",
   "execution_count": 27,
   "id": "97bb6995-b307-4d7b-93e2-fc0a63bb7541",
   "metadata": {},
   "outputs": [
    {
     "data": {
      "text/plain": [
       "'r'"
      ]
     },
     "execution_count": 27,
     "metadata": {},
     "output_type": "execute_result"
    }
   ],
   "source": [
    "a[-2]"
   ]
  },
  {
   "cell_type": "markdown",
   "id": "efddc891-c9cf-47c4-841b-dccef0ce282c",
   "metadata": {},
   "source": [
    "### 문자열 슬라이싱"
   ]
  },
  {
   "cell_type": "code",
   "execution_count": 29,
   "id": "23ea5613-b095-4cf4-86ac-f18e3a36ebf3",
   "metadata": {},
   "outputs": [
    {
     "name": "stdout",
     "output_type": "stream",
     "text": [
      "life\n"
     ]
    }
   ],
   "source": [
    "b = a[0]+ a[1] + a[2] + a[3]\n",
    "print(b)"
   ]
  },
  {
   "cell_type": "code",
   "execution_count": 30,
   "id": "d46935cd-2aeb-4374-9b88-75b03da49cee",
   "metadata": {},
   "outputs": [
    {
     "data": {
      "text/plain": [
       "'life'"
      ]
     },
     "execution_count": 30,
     "metadata": {},
     "output_type": "execute_result"
    }
   ],
   "source": [
    "a[0:4]"
   ]
  },
  {
   "cell_type": "code",
   "execution_count": 32,
   "id": "ba5f4001-b77d-413e-9b0f-4d0d2d947387",
   "metadata": {},
   "outputs": [
    {
     "data": {
      "text/plain": [
       "'short'"
      ]
     },
     "execution_count": 32,
     "metadata": {},
     "output_type": "execute_result"
    }
   ],
   "source": [
    "a[12:17]"
   ]
  },
  {
   "cell_type": "code",
   "execution_count": 33,
   "id": "0029f166-feff-4c78-832c-1d8b11249dda",
   "metadata": {},
   "outputs": [
    {
     "data": {
      "text/plain": [
       "''"
      ]
     },
     "execution_count": 33,
     "metadata": {},
     "output_type": "execute_result"
    }
   ],
   "source": [
    "a[23:27]"
   ]
  },
  {
   "cell_type": "code",
   "execution_count": 34,
   "id": "2498a76e-53f1-49c5-ab7d-a80ff4dc8edd",
   "metadata": {},
   "outputs": [
    {
     "data": {
      "text/plain": [
       "''"
      ]
     },
     "execution_count": 34,
     "metadata": {},
     "output_type": "execute_result"
    }
   ],
   "source": [
    "a[28:34]"
   ]
  },
  {
   "cell_type": "code",
   "execution_count": 36,
   "id": "b750b2f9-616a-4698-971c-adc7aeca3056",
   "metadata": {},
   "outputs": [
    {
     "data": {
      "text/plain": [
       "'life is too short'"
      ]
     },
     "execution_count": 36,
     "metadata": {},
     "output_type": "execute_result"
    }
   ],
   "source": [
    "a[:17]"
   ]
  },
  {
   "cell_type": "code",
   "execution_count": 37,
   "id": "5e985e6e-f56f-4235-b7b6-a4bcf45cecfc",
   "metadata": {},
   "outputs": [
    {
     "data": {
      "text/plain": [
       "'life is too short'"
      ]
     },
     "execution_count": 37,
     "metadata": {},
     "output_type": "execute_result"
    }
   ],
   "source": [
    "a"
   ]
  },
  {
   "cell_type": "code",
   "execution_count": 38,
   "id": "68bce87c-92c1-4533-bc6a-b2891e574da9",
   "metadata": {},
   "outputs": [],
   "source": [
    "a = \"life is too short, you need python\""
   ]
  },
  {
   "cell_type": "code",
   "execution_count": 39,
   "id": "fba29860-1dbd-42bc-9dc9-5f2ed4d84f44",
   "metadata": {},
   "outputs": [
    {
     "data": {
      "text/plain": [
       "'life is too short, you need python'"
      ]
     },
     "execution_count": 39,
     "metadata": {},
     "output_type": "execute_result"
    }
   ],
   "source": [
    "a[:]"
   ]
  },
  {
   "cell_type": "code",
   "execution_count": 40,
   "id": "6d617f27-ae02-4b20-bec7-d48e0136b6e9",
   "metadata": {},
   "outputs": [
    {
     "data": {
      "text/plain": [
       "'life is too short'"
      ]
     },
     "execution_count": 40,
     "metadata": {},
     "output_type": "execute_result"
    }
   ],
   "source": [
    "a[:17]"
   ]
  },
  {
   "cell_type": "code",
   "execution_count": 41,
   "id": "d713c00b-0a17-4210-9a05-1625d89acb9f",
   "metadata": {},
   "outputs": [
    {
     "data": {
      "text/plain": [
       "'life'"
      ]
     },
     "execution_count": 41,
     "metadata": {},
     "output_type": "execute_result"
    }
   ],
   "source": [
    "a[:4]"
   ]
  },
  {
   "cell_type": "code",
   "execution_count": 42,
   "id": "6ee1066e-6503-4678-bed7-e71394d4d880",
   "metadata": {},
   "outputs": [
    {
     "data": {
      "text/plain": [
       "'lif'"
      ]
     },
     "execution_count": 42,
     "metadata": {},
     "output_type": "execute_result"
    }
   ],
   "source": [
    "a[:3]"
   ]
  },
  {
   "cell_type": "code",
   "execution_count": 43,
   "id": "15b97432-8301-4d2a-971e-edfd9d06c1da",
   "metadata": {},
   "outputs": [
    {
     "name": "stdout",
     "output_type": "stream",
     "text": [
      "<class 'str'>\n"
     ]
    }
   ],
   "source": [
    "a = \"123\"\n",
    "print (type(a))"
   ]
  },
  {
   "cell_type": "code",
   "execution_count": 44,
   "id": "2db78ff0-cafe-44bf-9963-f156ebc0b14a",
   "metadata": {},
   "outputs": [],
   "source": [
    "b = \"10\""
   ]
  },
  {
   "cell_type": "markdown",
   "id": "1afcf94a-000d-4876-a70d-b2b80677da04",
   "metadata": {},
   "source": [
    "### 연습하기"
   ]
  },
  {
   "cell_type": "code",
   "execution_count": 1,
   "id": "ec08cd00-6d41-4d7b-9b9c-73a0436538f7",
   "metadata": {},
   "outputs": [
    {
     "data": {
      "text/plain": [
       "0.5714285714285714"
      ]
     },
     "execution_count": 1,
     "metadata": {},
     "output_type": "execute_result"
    }
   ],
   "source": [
    "a=4\n",
    "b=7\n",
    "a/b"
   ]
  },
  {
   "cell_type": "code",
   "execution_count": 2,
   "id": "baaaa523-061b-401f-8baf-da82ad8900dd",
   "metadata": {},
   "outputs": [
    {
     "data": {
      "text/plain": [
       "4"
      ]
     },
     "execution_count": 2,
     "metadata": {},
     "output_type": "execute_result"
    }
   ],
   "source": [
    "a%b"
   ]
  },
  {
   "cell_type": "code",
   "execution_count": null,
   "id": "63b12a79-b401-493a-9016-b52982e535d4",
   "metadata": {},
   "outputs": [],
   "source": []
  }
 ],
 "metadata": {
  "kernelspec": {
   "display_name": "Python [conda env:base] *",
   "language": "python",
   "name": "conda-base-py"
  },
  "language_info": {
   "codemirror_mode": {
    "name": "ipython",
    "version": 3
   },
   "file_extension": ".py",
   "mimetype": "text/x-python",
   "name": "python",
   "nbconvert_exporter": "python",
   "pygments_lexer": "ipython3",
   "version": "3.13.5"
  }
 },
 "nbformat": 4,
 "nbformat_minor": 5
}
