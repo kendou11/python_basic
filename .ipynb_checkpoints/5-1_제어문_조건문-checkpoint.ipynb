{
 "cells": [
  {
   "cell_type": "markdown",
   "id": "88079c9c-1cec-4d2a-93d7-db1c341738b6",
   "metadata": {},
   "source": [
    "## 1. if문의 기본 구조"
   ]
  },
  {
   "cell_type": "code",
   "execution_count": 2,
   "id": "dcec8dd1-2bdf-4803-876d-b0b41c3d6b2f",
   "metadata": {},
   "outputs": [
    {
     "name": "stdout",
     "output_type": "stream",
     "text": [
      "택시를\n",
      "타고\n",
      "가라\n"
     ]
    }
   ],
   "source": [
    "money = True\n",
    "if money:\n",
    "    print(\"택시를\")\n",
    "    print('타고')\n",
    "    print('가라')"
   ]
  },
  {
   "cell_type": "code",
   "execution_count": 5,
   "id": "40f5a0c7-c802-4195-82f6-0fb9569eadf6",
   "metadata": {},
   "outputs": [],
   "source": [
    "money = False\n",
    "if money:\n",
    "    print(\"택시를\")\n",
    "    print('타고')\n",
    "    print('가라')"
   ]
  },
  {
   "cell_type": "code",
   "execution_count": 11,
   "id": "b13a5ca3-40a8-4789-b16d-e8d1f09983e3",
   "metadata": {},
   "outputs": [
    {
     "ename": "IndentationError",
     "evalue": "unexpected indent (1673412142.py, line 5)",
     "output_type": "error",
     "traceback": [
      "\u001b[1;36m  Cell \u001b[1;32mIn[11], line 5\u001b[1;36m\u001b[0m\n\u001b[1;33m    print('가라')\u001b[0m\n\u001b[1;37m    ^\u001b[0m\n\u001b[1;31mIndentationError\u001b[0m\u001b[1;31m:\u001b[0m unexpected indent\n"
     ]
    }
   ],
   "source": [
    "# 들여쓰기 안했을때\n",
    "\n",
    "money = True\n",
    "if money:\n",
    "    print(\"택시를\")\n",
    "print('타고')\n",
    "    print('가라')"
   ]
  },
  {
   "cell_type": "code",
   "execution_count": 12,
   "id": "a82c05bf-611e-4a32-b5bb-77cd12873387",
   "metadata": {},
   "outputs": [
    {
     "name": "stdout",
     "output_type": "stream",
     "text": [
      "택시를 타고\n"
     ]
    }
   ],
   "source": [
    "if money:\n",
    "    print('택시를 타고')"
   ]
  },
  {
   "cell_type": "code",
   "execution_count": 13,
   "id": "d9af84df-3ec3-4cc3-b00e-21a96fd0a060",
   "metadata": {},
   "outputs": [
    {
     "ename": "SyntaxError",
     "evalue": "expected ':' (1938550374.py, line 1)",
     "output_type": "error",
     "traceback": [
      "\u001b[1;36m  Cell \u001b[1;32mIn[13], line 1\u001b[1;36m\u001b[0m\n\u001b[1;33m    if money\u001b[0m\n\u001b[1;37m            ^\u001b[0m\n\u001b[1;31mSyntaxError\u001b[0m\u001b[1;31m:\u001b[0m expected ':'\n"
     ]
    }
   ],
   "source": [
    "# :없을때\n",
    "if money\n",
    "    print('택시를 타고')"
   ]
  },
  {
   "cell_type": "markdown",
   "id": "5762ff78-f49d-4fc7-92af-ef10e9463dd5",
   "metadata": {},
   "source": [
    "x = 3 y=2\n",
    "print(x>y)"
   ]
  },
  {
   "cell_type": "code",
   "execution_count": 15,
   "id": "fe040a0f-35bb-4784-9c5e-73e3dc7f82b1",
   "metadata": {},
   "outputs": [
    {
     "name": "stdout",
     "output_type": "stream",
     "text": [
      "True\n"
     ]
    }
   ],
   "source": [
    "x = 3\n",
    "y=2 \n",
    "print(x>y)"
   ]
  },
  {
   "cell_type": "code",
   "execution_count": 16,
   "id": "349ab157-4c93-41a2-9157-698c434d0f20",
   "metadata": {},
   "outputs": [
    {
     "name": "stdout",
     "output_type": "stream",
     "text": [
      "False\n"
     ]
    }
   ],
   "source": [
    "print(y>x)"
   ]
  },
  {
   "cell_type": "code",
   "execution_count": 18,
   "id": "b03ae6f5-0688-4f99-b34d-1b41bb22a616",
   "metadata": {},
   "outputs": [
    {
     "name": "stdout",
     "output_type": "stream",
     "text": [
      "걸어가라\n"
     ]
    }
   ],
   "source": [
    "money = 2000\n",
    "if money >= 3000:\n",
    "    print(\"택시를 타고 가라\")\n",
    "else:\n",
    "    print(\"걸어가라\")"
   ]
  },
  {
   "cell_type": "code",
   "execution_count": 20,
   "id": "35aa3850-414d-450e-9a81-32668fd16899",
   "metadata": {},
   "outputs": [
    {
     "name": "stdout",
     "output_type": "stream",
     "text": [
      "택시를 타고 가라\n"
     ]
    }
   ],
   "source": [
    "# 논리 연산자\n",
    "# 조건식 x,y -> and 둘다 True일 때 True\n",
    "#               or 하나만 Trus이면 True\n",
    "#              not True이면 False False이면 True\n",
    "\n",
    "money = 2000\n",
    "card = True\n",
    "if money >= 3000 or card:\n",
    "    print(\"택시를 타고 가라\")\n",
    "else:\n",
    "    print(\"걸어가라\")"
   ]
  },
  {
   "cell_type": "code",
   "execution_count": 22,
   "id": "ab3dbb1b-3fc3-412b-8e44-fe6f68614633",
   "metadata": {},
   "outputs": [
    {
     "name": "stdout",
     "output_type": "stream",
     "text": [
      "걸어가라\n"
     ]
    }
   ],
   "source": [
    "money = 2000\n",
    "card = False\n",
    "if money >= 3000 or card:\n",
    "    print(\"택시를 타고 가라\")\n",
    "else:\n",
    "    print(\"걸어가라\")"
   ]
  },
  {
   "cell_type": "code",
   "execution_count": 23,
   "id": "4cae37c3-564e-47eb-9167-6f5717f2004b",
   "metadata": {},
   "outputs": [
    {
     "name": "stdout",
     "output_type": "stream",
     "text": [
      "걸어가라\n"
     ]
    }
   ],
   "source": [
    "money = 2000\n",
    "card = False\n",
    "if money >= 3000 and card:\n",
    "    print(\"택시를 타고 가라\")\n",
    "else:\n",
    "    print(\"걸어가라\")"
   ]
  },
  {
   "cell_type": "code",
   "execution_count": 29,
   "id": "a5fe494c-22a6-496e-8e68-9f6e2cb63f84",
   "metadata": {},
   "outputs": [
    {
     "ename": "SyntaxError",
     "evalue": "invalid syntax (4076949994.py, line 3)",
     "output_type": "error",
     "traceback": [
      "\u001b[1;36m  Cell \u001b[1;32mIn[29], line 3\u001b[1;36m\u001b[0m\n\u001b[1;33m    if money >= 3000 not card:\u001b[0m\n\u001b[1;37m                         ^\u001b[0m\n\u001b[1;31mSyntaxError\u001b[0m\u001b[1;31m:\u001b[0m invalid syntax\n"
     ]
    }
   ],
   "source": [
    "money = 2000\n",
    "card = True\n",
    "if money >= 3000 not card:\n",
    "    print(\"택시를 타고 가라\")"
   ]
  },
  {
   "cell_type": "code",
   "execution_count": 27,
   "id": "cad6dee3-40b8-4e74-a1a3-ef26600ab8c8",
   "metadata": {},
   "outputs": [
    {
     "data": {
      "text/plain": [
       "True"
      ]
     },
     "execution_count": 27,
     "metadata": {},
     "output_type": "execute_result"
    }
   ],
   "source": [
    "# in, not, in\n",
    "\n",
    "1 in [1,2,3]"
   ]
  },
  {
   "cell_type": "code",
   "execution_count": 28,
   "id": "fd5adda9-8f66-4966-86d3-296eef6050e7",
   "metadata": {},
   "outputs": [
    {
     "data": {
      "text/plain": [
       "False"
      ]
     },
     "execution_count": 28,
     "metadata": {},
     "output_type": "execute_result"
    }
   ],
   "source": [
    "1 not in [1,2,3]"
   ]
  },
  {
   "cell_type": "code",
   "execution_count": 30,
   "id": "efaff8bf-351c-40ef-a1da-f1df1fbc7fed",
   "metadata": {},
   "outputs": [
    {
     "data": {
      "text/plain": [
       "True"
      ]
     },
     "execution_count": 30,
     "metadata": {},
     "output_type": "execute_result"
    }
   ],
   "source": [
    "'a' in ('a','b,''c')"
   ]
  },
  {
   "cell_type": "code",
   "execution_count": 32,
   "id": "92f78e4a-12d5-449a-8b59-0d713336ef3f",
   "metadata": {},
   "outputs": [
    {
     "data": {
      "text/plain": [
       "True"
      ]
     },
     "execution_count": 32,
     "metadata": {},
     "output_type": "execute_result"
    }
   ],
   "source": [
    "'b' not in ('a','b,''c')"
   ]
  },
  {
   "cell_type": "code",
   "execution_count": 36,
   "id": "8668ea1b-ce52-4354-a189-510cf7f5407f",
   "metadata": {},
   "outputs": [
    {
     "name": "stdout",
     "output_type": "stream",
     "text": [
      "Thank\n"
     ]
    }
   ],
   "source": [
    "poket = ['paper', 'cellphone',]\n",
    "if 'money' in poket:\n",
    "    print('어쩌라고')\n",
    "else:\n",
    "    print('Thank')"
   ]
  },
  {
   "cell_type": "code",
   "execution_count": 37,
   "id": "edf8bb0a-2077-48fe-994c-2a6a4d064d71",
   "metadata": {},
   "outputs": [
    {
     "ename": "SyntaxError",
     "evalue": "invalid syntax (1567856797.py, line 5)",
     "output_type": "error",
     "traceback": [
      "\u001b[1;36m  Cell \u001b[1;32mIn[37], line 5\u001b[1;36m\u001b[0m\n\u001b[1;33m    pass('어쩌라고')\u001b[0m\n\u001b[1;37m        ^\u001b[0m\n\u001b[1;31mSyntaxError\u001b[0m\u001b[1;31m:\u001b[0m invalid syntax\n"
     ]
    }
   ],
   "source": [
    "# pass 실행문 실행하기 않고 넘어가기\n",
    "\n",
    "poket = ['paper', 'cellphone',]\n",
    "if 'money' in poket:\n",
    "   pass('어쩌라고')\n",
    "else:\n",
    "    print('Thank')"
   ]
  },
  {
   "cell_type": "markdown",
   "id": "c06612df-b13f-49bf-a130-7a69d9720246",
   "metadata": {},
   "source": [
    "## 3. 다양한 조건을 판단하는 elif"
   ]
  },
  {
   "cell_type": "code",
   "execution_count": 38,
   "id": "7439e43e-a8bf-44a4-a95f-2eb4c80835e3",
   "metadata": {},
   "outputs": [
    {
     "name": "stdout",
     "output_type": "stream",
     "text": [
      "택시를 타고 가라\n"
     ]
    }
   ],
   "source": [
    "# if, else만으로 표현\n",
    "\n",
    "poket = ['paper', 'cellphone',]\n",
    "card = True\n",
    "\n",
    "if 'money' in poket:\n",
    "    print('택시를 타고가라')\n",
    "\n",
    "else:\n",
    "    if card:\n",
    "        print('택시를 타고 가라')\n",
    "    else:\n",
    "        print('걸어가라')"
   ]
  },
  {
   "cell_type": "code",
   "execution_count": 39,
   "id": "06a4748f-5d24-41b9-9dce-c831ae436735",
   "metadata": {},
   "outputs": [
    {
     "name": "stdout",
     "output_type": "stream",
     "text": [
      "택시를 타고 가라\n"
     ]
    }
   ],
   "source": [
    "# elif 사용\n",
    "\n",
    "poket = ['paper', 'cellphone',]\n",
    "card = True\n",
    "\n",
    "if 'money' in poket:\n",
    "    print('택시를 타고가라')\n",
    "\n",
    "elif card:\n",
    "   print('택시를 타고 가라')\n",
    "else:\n",
    "    print('걸어가라')"
   ]
  },
  {
   "cell_type": "code",
   "execution_count": 40,
   "id": "7c1849f4-d9bf-4673-8e5e-7da08e68e9b8",
   "metadata": {},
   "outputs": [
    {
     "name": "stdout",
     "output_type": "stream",
     "text": [
      "c\n"
     ]
    }
   ],
   "source": [
    "math = 60\n",
    "\n",
    "if math>=90:\n",
    "    print('A')\n",
    "elif math>=80:\n",
    "    print('b')\n",
    "elif math>=70:\n",
    "    print('c')\n",
    "elif math>=60:\n",
    "    print('c')\n",
    "else:\n",
    "    print('f')"
   ]
  },
  {
   "cell_type": "code",
   "execution_count": 41,
   "id": "81fd4182-8a62-4c63-9440-29524b76df31",
   "metadata": {},
   "outputs": [],
   "source": [
    "# if문 한줄로 작성하기\n",
    "\n",
    "poket = ['paper', 'cellphone', 'money']\n",
    "if 'money' in poket:pass\n",
    "else:print('카드를 꺼내라')"
   ]
  },
  {
   "cell_type": "markdown",
   "id": "1833758c-be03-44e1-ab51-c280656dfcb2",
   "metadata": {},
   "source": [
    "## 4. 조건부 표현식"
   ]
  },
  {
   "cell_type": "code",
   "execution_count": 44,
   "id": "a491df28-adb6-44ee-a011-a7f00f6edfbb",
   "metadata": {},
   "outputs": [
    {
     "ename": "NameError",
     "evalue": "name 'score' is not defined",
     "output_type": "error",
     "traceback": [
      "\u001b[1;31m---------------------------------------------------------------------------\u001b[0m",
      "\u001b[1;31mNameError\u001b[0m                                 Traceback (most recent call last)",
      "Cell \u001b[1;32mIn[44], line 3\u001b[0m\n\u001b[0;32m      1\u001b[0m \u001b[38;5;66;03m# if / else문\u001b[39;00m\n\u001b[1;32m----> 3\u001b[0m \u001b[38;5;28;01mif\u001b[39;00m score \u001b[38;5;241m>\u001b[39m\u001b[38;5;241m=\u001b[39m\u001b[38;5;241m60\u001b[39m:\n\u001b[0;32m      4\u001b[0m     massage\u001b[38;5;241m=\u001b[39m\u001b[38;5;124m\"\u001b[39m\u001b[38;5;124msuccess\u001b[39m\u001b[38;5;124m\"\u001b[39m\n\u001b[0;32m      5\u001b[0m \u001b[38;5;28;01melse\u001b[39;00m:\n",
      "\u001b[1;31mNameError\u001b[0m: name 'score' is not defined"
     ]
    }
   ],
   "source": [
    "# if / else문\n",
    "\n",
    "if score >=60:\n",
    "    massage=\"success\"\n",
    "else:\n",
    "    massage=\"failure\"\n",
    "\n",
    "print(massage)"
   ]
  },
  {
   "cell_type": "code",
   "execution_count": 54,
   "id": "e2e0b925-cc84-47d4-b58e-c215478c6329",
   "metadata": {},
   "outputs": [
    {
     "ename": "NameError",
     "evalue": "name 'score' is not defined",
     "output_type": "error",
     "traceback": [
      "\u001b[1;31m---------------------------------------------------------------------------\u001b[0m",
      "\u001b[1;31mNameError\u001b[0m                                 Traceback (most recent call last)",
      "Cell \u001b[1;32mIn[54], line 2\u001b[0m\n\u001b[0;32m      1\u001b[0m \u001b[38;5;66;03m# 조건부 표현식\u001b[39;00m\n\u001b[1;32m----> 2\u001b[0m message \u001b[38;5;241m=\u001b[39m\u001b[38;5;124m\"\u001b[39m\u001b[38;5;124msuccess\u001b[39m\u001b[38;5;124m\"\u001b[39m \u001b[38;5;28;01mif\u001b[39;00m score \u001b[38;5;241m>\u001b[39m\u001b[38;5;241m=\u001b[39m \u001b[38;5;241m60\u001b[39m \u001b[38;5;28;01melse\u001b[39;00m \u001b[38;5;124m\"\u001b[39m\u001b[38;5;124mfailure\u001b[39m\u001b[38;5;124m\"\u001b[39m\n\u001b[0;32m      3\u001b[0m \u001b[38;5;28mprint\u001b[39m(message)\n",
      "\u001b[1;31mNameError\u001b[0m: name 'score' is not defined"
     ]
    }
   ],
   "source": [
    "# 조건부 표현식\n",
    "message =\"success\" if score >= 60 else \"failure\"\n",
    "print(message)"
   ]
  },
  {
   "cell_type": "markdown",
   "id": "9f6adb60-09a1-45d7-8184-aa0738b23afc",
   "metadata": {},
   "source": []
  }
 ],
 "metadata": {
  "kernelspec": {
   "display_name": "Python [conda env:base] *",
   "language": "python",
   "name": "conda-base-py"
  },
  "language_info": {
   "codemirror_mode": {
    "name": "ipython",
    "version": 3
   },
   "file_extension": ".py",
   "mimetype": "text/x-python",
   "name": "python",
   "nbconvert_exporter": "python",
   "pygments_lexer": "ipython3",
   "version": "3.13.5"
  }
 },
 "nbformat": 4,
 "nbformat_minor": 5
}
